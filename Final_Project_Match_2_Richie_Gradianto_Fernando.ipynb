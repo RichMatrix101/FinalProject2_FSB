{
  "nbformat": 4,
  "nbformat_minor": 0,
  "metadata": {
    "colab": {
      "name": "Final Project Match 2_Richie Gradianto Fernando.ipynb",
      "provenance": [],
      "collapsed_sections": []
    },
    "kernelspec": {
      "name": "python3",
      "display_name": "Python 3"
    },
    "language_info": {
      "name": "python"
    }
  },
  "cells": [
    {
      "cell_type": "markdown",
      "source": [
        "#Project Akhir NLP Analisis Sentimen"
      ],
      "metadata": {
        "id": "W3jUXPIeXnet"
      }
    },
    {
      "cell_type": "code",
      "source": [
        "!pip install openpyxl"
      ],
      "metadata": {
        "colab": {
          "base_uri": "https://localhost:8080/"
        },
        "id": "w1OgP6mEW4TE",
        "outputId": "3385fb00-05e3-48ea-cdfb-b145f63c2f11"
      },
      "execution_count": null,
      "outputs": [
        {
          "output_type": "stream",
          "name": "stdout",
          "text": [
            "Looking in indexes: https://pypi.org/simple, https://us-python.pkg.dev/colab-wheels/public/simple/\n",
            "Requirement already satisfied: openpyxl in /usr/local/lib/python3.7/dist-packages (3.0.10)\n",
            "Requirement already satisfied: et-xmlfile in /usr/local/lib/python3.7/dist-packages (from openpyxl) (1.1.0)\n"
          ]
        }
      ]
    },
    {
      "cell_type": "markdown",
      "source": [
        "# Import dataset"
      ],
      "metadata": {
        "id": "uDAUuIsJXg9W"
      }
    },
    {
      "cell_type": "code",
      "execution_count": null,
      "metadata": {
        "id": "YPS_pLMNVnKF"
      },
      "outputs": [],
      "source": [
        "import re\n",
        "import string\n",
        "\n",
        "import numpy as np\n",
        "import pandas as pd\n",
        "import matplotlib.pyplot as plt\n",
        "from sklearn.model_selection import train_test_split\n",
        "import tensorflow as tf\n",
        "import keras"
      ]
    },
    {
      "cell_type": "code",
      "source": [
        "from google.colab import files\n",
        "uploaded = files.upload()"
      ],
      "metadata": {
        "colab": {
          "resources": {
            "http://localhost:8080/nbextensions/google.colab/files.js": {
              "data": "Ly8gQ29weXJpZ2h0IDIwMTcgR29vZ2xlIExMQwovLwovLyBMaWNlbnNlZCB1bmRlciB0aGUgQXBhY2hlIExpY2Vuc2UsIFZlcnNpb24gMi4wICh0aGUgIkxpY2Vuc2UiKTsKLy8geW91IG1heSBub3QgdXNlIHRoaXMgZmlsZSBleGNlcHQgaW4gY29tcGxpYW5jZSB3aXRoIHRoZSBMaWNlbnNlLgovLyBZb3UgbWF5IG9idGFpbiBhIGNvcHkgb2YgdGhlIExpY2Vuc2UgYXQKLy8KLy8gICAgICBodHRwOi8vd3d3LmFwYWNoZS5vcmcvbGljZW5zZXMvTElDRU5TRS0yLjAKLy8KLy8gVW5sZXNzIHJlcXVpcmVkIGJ5IGFwcGxpY2FibGUgbGF3IG9yIGFncmVlZCB0byBpbiB3cml0aW5nLCBzb2Z0d2FyZQovLyBkaXN0cmlidXRlZCB1bmRlciB0aGUgTGljZW5zZSBpcyBkaXN0cmlidXRlZCBvbiBhbiAiQVMgSVMiIEJBU0lTLAovLyBXSVRIT1VUIFdBUlJBTlRJRVMgT1IgQ09ORElUSU9OUyBPRiBBTlkgS0lORCwgZWl0aGVyIGV4cHJlc3Mgb3IgaW1wbGllZC4KLy8gU2VlIHRoZSBMaWNlbnNlIGZvciB0aGUgc3BlY2lmaWMgbGFuZ3VhZ2UgZ292ZXJuaW5nIHBlcm1pc3Npb25zIGFuZAovLyBsaW1pdGF0aW9ucyB1bmRlciB0aGUgTGljZW5zZS4KCi8qKgogKiBAZmlsZW92ZXJ2aWV3IEhlbHBlcnMgZm9yIGdvb2dsZS5jb2xhYiBQeXRob24gbW9kdWxlLgogKi8KKGZ1bmN0aW9uKHNjb3BlKSB7CmZ1bmN0aW9uIHNwYW4odGV4dCwgc3R5bGVBdHRyaWJ1dGVzID0ge30pIHsKICBjb25zdCBlbGVtZW50ID0gZG9jdW1lbnQuY3JlYXRlRWxlbWVudCgnc3BhbicpOwogIGVsZW1lbnQudGV4dENvbnRlbnQgPSB0ZXh0OwogIGZvciAoY29uc3Qga2V5IG9mIE9iamVjdC5rZXlzKHN0eWxlQXR0cmlidXRlcykpIHsKICAgIGVsZW1lbnQuc3R5bGVba2V5XSA9IHN0eWxlQXR0cmlidXRlc1trZXldOwogIH0KICByZXR1cm4gZWxlbWVudDsKfQoKLy8gTWF4IG51bWJlciBvZiBieXRlcyB3aGljaCB3aWxsIGJlIHVwbG9hZGVkIGF0IGEgdGltZS4KY29uc3QgTUFYX1BBWUxPQURfU0laRSA9IDEwMCAqIDEwMjQ7CgpmdW5jdGlvbiBfdXBsb2FkRmlsZXMoaW5wdXRJZCwgb3V0cHV0SWQpIHsKICBjb25zdCBzdGVwcyA9IHVwbG9hZEZpbGVzU3RlcChpbnB1dElkLCBvdXRwdXRJZCk7CiAgY29uc3Qgb3V0cHV0RWxlbWVudCA9IGRvY3VtZW50LmdldEVsZW1lbnRCeUlkKG91dHB1dElkKTsKICAvLyBDYWNoZSBzdGVwcyBvbiB0aGUgb3V0cHV0RWxlbWVudCB0byBtYWtlIGl0IGF2YWlsYWJsZSBmb3IgdGhlIG5leHQgY2FsbAogIC8vIHRvIHVwbG9hZEZpbGVzQ29udGludWUgZnJvbSBQeXRob24uCiAgb3V0cHV0RWxlbWVudC5zdGVwcyA9IHN0ZXBzOwoKICByZXR1cm4gX3VwbG9hZEZpbGVzQ29udGludWUob3V0cHV0SWQpOwp9CgovLyBUaGlzIGlzIHJvdWdobHkgYW4gYXN5bmMgZ2VuZXJhdG9yIChub3Qgc3VwcG9ydGVkIGluIHRoZSBicm93c2VyIHlldCksCi8vIHdoZXJlIHRoZXJlIGFyZSBtdWx0aXBsZSBhc3luY2hyb25vdXMgc3RlcHMgYW5kIHRoZSBQeXRob24gc2lkZSBpcyBnb2luZwovLyB0byBwb2xsIGZvciBjb21wbGV0aW9uIG9mIGVhY2ggc3RlcC4KLy8gVGhpcyB1c2VzIGEgUHJvbWlzZSB0byBibG9jayB0aGUgcHl0aG9uIHNpZGUgb24gY29tcGxldGlvbiBvZiBlYWNoIHN0ZXAsCi8vIHRoZW4gcGFzc2VzIHRoZSByZXN1bHQgb2YgdGhlIHByZXZpb3VzIHN0ZXAgYXMgdGhlIGlucHV0IHRvIHRoZSBuZXh0IHN0ZXAuCmZ1bmN0aW9uIF91cGxvYWRGaWxlc0NvbnRpbnVlKG91dHB1dElkKSB7CiAgY29uc3Qgb3V0cHV0RWxlbWVudCA9IGRvY3VtZW50LmdldEVsZW1lbnRCeUlkKG91dHB1dElkKTsKICBjb25zdCBzdGVwcyA9IG91dHB1dEVsZW1lbnQuc3RlcHM7CgogIGNvbnN0IG5leHQgPSBzdGVwcy5uZXh0KG91dHB1dEVsZW1lbnQubGFzdFByb21pc2VWYWx1ZSk7CiAgcmV0dXJuIFByb21pc2UucmVzb2x2ZShuZXh0LnZhbHVlLnByb21pc2UpLnRoZW4oKHZhbHVlKSA9PiB7CiAgICAvLyBDYWNoZSB0aGUgbGFzdCBwcm9taXNlIHZhbHVlIHRvIG1ha2UgaXQgYXZhaWxhYmxlIHRvIHRoZSBuZXh0CiAgICAvLyBzdGVwIG9mIHRoZSBnZW5lcmF0b3IuCiAgICBvdXRwdXRFbGVtZW50Lmxhc3RQcm9taXNlVmFsdWUgPSB2YWx1ZTsKICAgIHJldHVybiBuZXh0LnZhbHVlLnJlc3BvbnNlOwogIH0pOwp9CgovKioKICogR2VuZXJhdG9yIGZ1bmN0aW9uIHdoaWNoIGlzIGNhbGxlZCBiZXR3ZWVuIGVhY2ggYXN5bmMgc3RlcCBvZiB0aGUgdXBsb2FkCiAqIHByb2Nlc3MuCiAqIEBwYXJhbSB7c3RyaW5nfSBpbnB1dElkIEVsZW1lbnQgSUQgb2YgdGhlIGlucHV0IGZpbGUgcGlja2VyIGVsZW1lbnQuCiAqIEBwYXJhbSB7c3RyaW5nfSBvdXRwdXRJZCBFbGVtZW50IElEIG9mIHRoZSBvdXRwdXQgZGlzcGxheS4KICogQHJldHVybiB7IUl0ZXJhYmxlPCFPYmplY3Q+fSBJdGVyYWJsZSBvZiBuZXh0IHN0ZXBzLgogKi8KZnVuY3Rpb24qIHVwbG9hZEZpbGVzU3RlcChpbnB1dElkLCBvdXRwdXRJZCkgewogIGNvbnN0IGlucHV0RWxlbWVudCA9IGRvY3VtZW50LmdldEVsZW1lbnRCeUlkKGlucHV0SWQpOwogIGlucHV0RWxlbWVudC5kaXNhYmxlZCA9IGZhbHNlOwoKICBjb25zdCBvdXRwdXRFbGVtZW50ID0gZG9jdW1lbnQuZ2V0RWxlbWVudEJ5SWQob3V0cHV0SWQpOwogIG91dHB1dEVsZW1lbnQuaW5uZXJIVE1MID0gJyc7CgogIGNvbnN0IHBpY2tlZFByb21pc2UgPSBuZXcgUHJvbWlzZSgocmVzb2x2ZSkgPT4gewogICAgaW5wdXRFbGVtZW50LmFkZEV2ZW50TGlzdGVuZXIoJ2NoYW5nZScsIChlKSA9PiB7CiAgICAgIHJlc29sdmUoZS50YXJnZXQuZmlsZXMpOwogICAgfSk7CiAgfSk7CgogIGNvbnN0IGNhbmNlbCA9IGRvY3VtZW50LmNyZWF0ZUVsZW1lbnQoJ2J1dHRvbicpOwogIGlucHV0RWxlbWVudC5wYXJlbnRFbGVtZW50LmFwcGVuZENoaWxkKGNhbmNlbCk7CiAgY2FuY2VsLnRleHRDb250ZW50ID0gJ0NhbmNlbCB1cGxvYWQnOwogIGNvbnN0IGNhbmNlbFByb21pc2UgPSBuZXcgUHJvbWlzZSgocmVzb2x2ZSkgPT4gewogICAgY2FuY2VsLm9uY2xpY2sgPSAoKSA9PiB7CiAgICAgIHJlc29sdmUobnVsbCk7CiAgICB9OwogIH0pOwoKICAvLyBXYWl0IGZvciB0aGUgdXNlciB0byBwaWNrIHRoZSBmaWxlcy4KICBjb25zdCBmaWxlcyA9IHlpZWxkIHsKICAgIHByb21pc2U6IFByb21pc2UucmFjZShbcGlja2VkUHJvbWlzZSwgY2FuY2VsUHJvbWlzZV0pLAogICAgcmVzcG9uc2U6IHsKICAgICAgYWN0aW9uOiAnc3RhcnRpbmcnLAogICAgfQogIH07CgogIGNhbmNlbC5yZW1vdmUoKTsKCiAgLy8gRGlzYWJsZSB0aGUgaW5wdXQgZWxlbWVudCBzaW5jZSBmdXJ0aGVyIHBpY2tzIGFyZSBub3QgYWxsb3dlZC4KICBpbnB1dEVsZW1lbnQuZGlzYWJsZWQgPSB0cnVlOwoKICBpZiAoIWZpbGVzKSB7CiAgICByZXR1cm4gewogICAgICByZXNwb25zZTogewogICAgICAgIGFjdGlvbjogJ2NvbXBsZXRlJywKICAgICAgfQogICAgfTsKICB9CgogIGZvciAoY29uc3QgZmlsZSBvZiBmaWxlcykgewogICAgY29uc3QgbGkgPSBkb2N1bWVudC5jcmVhdGVFbGVtZW50KCdsaScpOwogICAgbGkuYXBwZW5kKHNwYW4oZmlsZS5uYW1lLCB7Zm9udFdlaWdodDogJ2JvbGQnfSkpOwogICAgbGkuYXBwZW5kKHNwYW4oCiAgICAgICAgYCgke2ZpbGUudHlwZSB8fCAnbi9hJ30pIC0gJHtmaWxlLnNpemV9IGJ5dGVzLCBgICsKICAgICAgICBgbGFzdCBtb2RpZmllZDogJHsKICAgICAgICAgICAgZmlsZS5sYXN0TW9kaWZpZWREYXRlID8gZmlsZS5sYXN0TW9kaWZpZWREYXRlLnRvTG9jYWxlRGF0ZVN0cmluZygpIDoKICAgICAgICAgICAgICAgICAgICAgICAgICAgICAgICAgICAgJ24vYSd9IC0gYCkpOwogICAgY29uc3QgcGVyY2VudCA9IHNwYW4oJzAlIGRvbmUnKTsKICAgIGxpLmFwcGVuZENoaWxkKHBlcmNlbnQpOwoKICAgIG91dHB1dEVsZW1lbnQuYXBwZW5kQ2hpbGQobGkpOwoKICAgIGNvbnN0IGZpbGVEYXRhUHJvbWlzZSA9IG5ldyBQcm9taXNlKChyZXNvbHZlKSA9PiB7CiAgICAgIGNvbnN0IHJlYWRlciA9IG5ldyBGaWxlUmVhZGVyKCk7CiAgICAgIHJlYWRlci5vbmxvYWQgPSAoZSkgPT4gewogICAgICAgIHJlc29sdmUoZS50YXJnZXQucmVzdWx0KTsKICAgICAgfTsKICAgICAgcmVhZGVyLnJlYWRBc0FycmF5QnVmZmVyKGZpbGUpOwogICAgfSk7CiAgICAvLyBXYWl0IGZvciB0aGUgZGF0YSB0byBiZSByZWFkeS4KICAgIGxldCBmaWxlRGF0YSA9IHlpZWxkIHsKICAgICAgcHJvbWlzZTogZmlsZURhdGFQcm9taXNlLAogICAgICByZXNwb25zZTogewogICAgICAgIGFjdGlvbjogJ2NvbnRpbnVlJywKICAgICAgfQogICAgfTsKCiAgICAvLyBVc2UgYSBjaHVua2VkIHNlbmRpbmcgdG8gYXZvaWQgbWVzc2FnZSBzaXplIGxpbWl0cy4gU2VlIGIvNjIxMTU2NjAuCiAgICBsZXQgcG9zaXRpb24gPSAwOwogICAgZG8gewogICAgICBjb25zdCBsZW5ndGggPSBNYXRoLm1pbihmaWxlRGF0YS5ieXRlTGVuZ3RoIC0gcG9zaXRpb24sIE1BWF9QQVlMT0FEX1NJWkUpOwogICAgICBjb25zdCBjaHVuayA9IG5ldyBVaW50OEFycmF5KGZpbGVEYXRhLCBwb3NpdGlvbiwgbGVuZ3RoKTsKICAgICAgcG9zaXRpb24gKz0gbGVuZ3RoOwoKICAgICAgY29uc3QgYmFzZTY0ID0gYnRvYShTdHJpbmcuZnJvbUNoYXJDb2RlLmFwcGx5KG51bGwsIGNodW5rKSk7CiAgICAgIHlpZWxkIHsKICAgICAgICByZXNwb25zZTogewogICAgICAgICAgYWN0aW9uOiAnYXBwZW5kJywKICAgICAgICAgIGZpbGU6IGZpbGUubmFtZSwKICAgICAgICAgIGRhdGE6IGJhc2U2NCwKICAgICAgICB9LAogICAgICB9OwoKICAgICAgbGV0IHBlcmNlbnREb25lID0gZmlsZURhdGEuYnl0ZUxlbmd0aCA9PT0gMCA/CiAgICAgICAgICAxMDAgOgogICAgICAgICAgTWF0aC5yb3VuZCgocG9zaXRpb24gLyBmaWxlRGF0YS5ieXRlTGVuZ3RoKSAqIDEwMCk7CiAgICAgIHBlcmNlbnQudGV4dENvbnRlbnQgPSBgJHtwZXJjZW50RG9uZX0lIGRvbmVgOwoKICAgIH0gd2hpbGUgKHBvc2l0aW9uIDwgZmlsZURhdGEuYnl0ZUxlbmd0aCk7CiAgfQoKICAvLyBBbGwgZG9uZS4KICB5aWVsZCB7CiAgICByZXNwb25zZTogewogICAgICBhY3Rpb246ICdjb21wbGV0ZScsCiAgICB9CiAgfTsKfQoKc2NvcGUuZ29vZ2xlID0gc2NvcGUuZ29vZ2xlIHx8IHt9OwpzY29wZS5nb29nbGUuY29sYWIgPSBzY29wZS5nb29nbGUuY29sYWIgfHwge307CnNjb3BlLmdvb2dsZS5jb2xhYi5fZmlsZXMgPSB7CiAgX3VwbG9hZEZpbGVzLAogIF91cGxvYWRGaWxlc0NvbnRpbnVlLAp9Owp9KShzZWxmKTsK",
              "ok": true,
              "headers": [
                [
                  "content-type",
                  "application/javascript"
                ]
              ],
              "status": 200,
              "status_text": ""
            }
          },
          "base_uri": "https://localhost:8080/",
          "height": 90
        },
        "id": "vstRL9diYYVP",
        "outputId": "276efa52-b928-4398-9ef9-c1070a0c1cf6"
      },
      "execution_count": null,
      "outputs": [
        {
          "output_type": "display_data",
          "data": {
            "text/plain": [
              "<IPython.core.display.HTML object>"
            ],
            "text/html": [
              "\n",
              "     <input type=\"file\" id=\"files-f9de6da4-0b61-429c-8975-66acf0e102ac\" name=\"files[]\" multiple disabled\n",
              "        style=\"border:none\" />\n",
              "     <output id=\"result-f9de6da4-0b61-429c-8975-66acf0e102ac\">\n",
              "      Upload widget is only available when the cell has been executed in the\n",
              "      current browser session. Please rerun this cell to enable.\n",
              "      </output>\n",
              "      <script src=\"/nbextensions/google.colab/files.js\"></script> "
            ]
          },
          "metadata": {}
        },
        {
          "output_type": "stream",
          "name": "stdout",
          "text": [
            "Saving DATASET CYBERBULLYING INSTAGRAM - FINAL.xlsx to DATASET CYBERBULLYING INSTAGRAM - FINAL (1).xlsx\n"
          ]
        }
      ]
    },
    {
      "cell_type": "code",
      "source": [
        "df = pd.read_excel('DATASET CYBERBULLYING INSTAGRAM - FINAL.xlsx')\n",
        "df"
      ],
      "metadata": {
        "colab": {
          "base_uri": "https://localhost:8080/",
          "height": 745
        },
        "id": "X5sy5brEXKmj",
        "outputId": "5bc8a91a-14f6-4da1-861d-f31b491f3793"
      },
      "execution_count": null,
      "outputs": [
        {
          "output_type": "execute_result",
          "data": {
            "text/plain": [
              "     No.     Nama Instagram  \\\n",
              "0      1       @delliananda   \n",
              "1      2          @fenninbl   \n",
              "2      3     @abdurahmanshq   \n",
              "3      4         @najla.yoo   \n",
              "4      5      @dessy_______   \n",
              "..   ...                ...   \n",
              "645  646         @_sigesrek   \n",
              "646  647      @safronlux.id   \n",
              "647  648    @rikzikmuktyana   \n",
              "648  649    @antoniusbennys   \n",
              "649  650  @dikha.wirasathya   \n",
              "\n",
              "                                              Komentar      Kategori  \\\n",
              "0          \"Kaka tidur yaa, udah pagi, gaboleh capek2\"  Non-bullying   \n",
              "1              \"makan nasi padang aja begini badannya\"  Non-bullying   \n",
              "2    \"yang aku suka dari dia adalah selalu cukur je...      Bullying   \n",
              "3    \"Hai kak Isyana aku ngefans banget sama kak Is...  Non-bullying   \n",
              "4    \"Manusia apa bidadari sih herann deh cantik te...  Non-bullying   \n",
              "..                                                 ...           ...   \n",
              "645  \"aku memutuskan untuk menjadi fans isyana. gil...  Non-bullying   \n",
              "646  \"AMZING ISYANAA!! Jujur aku amazed banget deng...  Non-bullying   \n",
              "647  \"paling ngiri liat orang keren maen alat musik...  Non-bullying   \n",
              "648  \"Sampe ga bisa berkata2 lagi buat isyana, sang...  Non-bullying   \n",
              "649  \"Inimah bukan main alat musik lagi. Olahraga j...  Non-bullying   \n",
              "\n",
              "      Tanggal Posting Nama Akun IG  Artis/Selebgram  Unnamed: 6  Unnamed: 7  \n",
              "0     14 Oktober 2019              @isyanasarasvati         NaN         NaN  \n",
              "1     14 Oktober 2019              @isyanasarasvati         NaN         NaN  \n",
              "2     14 Oktober 2019              @isyanasarasvati         NaN         NaN  \n",
              "3     14 Oktober 2019              @isyanasarasvati         NaN         NaN  \n",
              "4     14 Oktober 2019              @isyanasarasvati         NaN         NaN  \n",
              "..                ...                           ...         ...         ...  \n",
              "645  13 Februari 2021              @isyanasarasvati         NaN         NaN  \n",
              "646  13 Februari 2021              @isyanasarasvati         NaN         NaN  \n",
              "647  13 Februari 2021              @isyanasarasvati         NaN         NaN  \n",
              "648  13 Februari 2021              @isyanasarasvati         NaN         NaN  \n",
              "649  13 Februari 2021              @isyanasarasvati         NaN         NaN  \n",
              "\n",
              "[650 rows x 8 columns]"
            ],
            "text/html": [
              "\n",
              "  <div id=\"df-95c466b7-02c8-43c7-b278-192db3014f2e\">\n",
              "    <div class=\"colab-df-container\">\n",
              "      <div>\n",
              "<style scoped>\n",
              "    .dataframe tbody tr th:only-of-type {\n",
              "        vertical-align: middle;\n",
              "    }\n",
              "\n",
              "    .dataframe tbody tr th {\n",
              "        vertical-align: top;\n",
              "    }\n",
              "\n",
              "    .dataframe thead th {\n",
              "        text-align: right;\n",
              "    }\n",
              "</style>\n",
              "<table border=\"1\" class=\"dataframe\">\n",
              "  <thead>\n",
              "    <tr style=\"text-align: right;\">\n",
              "      <th></th>\n",
              "      <th>No.</th>\n",
              "      <th>Nama Instagram</th>\n",
              "      <th>Komentar</th>\n",
              "      <th>Kategori</th>\n",
              "      <th>Tanggal Posting</th>\n",
              "      <th>Nama Akun IG  Artis/Selebgram</th>\n",
              "      <th>Unnamed: 6</th>\n",
              "      <th>Unnamed: 7</th>\n",
              "    </tr>\n",
              "  </thead>\n",
              "  <tbody>\n",
              "    <tr>\n",
              "      <th>0</th>\n",
              "      <td>1</td>\n",
              "      <td>@delliananda</td>\n",
              "      <td>\"Kaka tidur yaa, udah pagi, gaboleh capek2\"</td>\n",
              "      <td>Non-bullying</td>\n",
              "      <td>14 Oktober 2019</td>\n",
              "      <td>@isyanasarasvati</td>\n",
              "      <td>NaN</td>\n",
              "      <td>NaN</td>\n",
              "    </tr>\n",
              "    <tr>\n",
              "      <th>1</th>\n",
              "      <td>2</td>\n",
              "      <td>@fenninbl</td>\n",
              "      <td>\"makan nasi padang aja begini badannya\"</td>\n",
              "      <td>Non-bullying</td>\n",
              "      <td>14 Oktober 2019</td>\n",
              "      <td>@isyanasarasvati</td>\n",
              "      <td>NaN</td>\n",
              "      <td>NaN</td>\n",
              "    </tr>\n",
              "    <tr>\n",
              "      <th>2</th>\n",
              "      <td>3</td>\n",
              "      <td>@abdurahmanshq</td>\n",
              "      <td>\"yang aku suka dari dia adalah selalu cukur je...</td>\n",
              "      <td>Bullying</td>\n",
              "      <td>14 Oktober 2019</td>\n",
              "      <td>@isyanasarasvati</td>\n",
              "      <td>NaN</td>\n",
              "      <td>NaN</td>\n",
              "    </tr>\n",
              "    <tr>\n",
              "      <th>3</th>\n",
              "      <td>4</td>\n",
              "      <td>@najla.yoo</td>\n",
              "      <td>\"Hai kak Isyana aku ngefans banget sama kak Is...</td>\n",
              "      <td>Non-bullying</td>\n",
              "      <td>14 Oktober 2019</td>\n",
              "      <td>@isyanasarasvati</td>\n",
              "      <td>NaN</td>\n",
              "      <td>NaN</td>\n",
              "    </tr>\n",
              "    <tr>\n",
              "      <th>4</th>\n",
              "      <td>5</td>\n",
              "      <td>@dessy_______</td>\n",
              "      <td>\"Manusia apa bidadari sih herann deh cantik te...</td>\n",
              "      <td>Non-bullying</td>\n",
              "      <td>14 Oktober 2019</td>\n",
              "      <td>@isyanasarasvati</td>\n",
              "      <td>NaN</td>\n",
              "      <td>NaN</td>\n",
              "    </tr>\n",
              "    <tr>\n",
              "      <th>...</th>\n",
              "      <td>...</td>\n",
              "      <td>...</td>\n",
              "      <td>...</td>\n",
              "      <td>...</td>\n",
              "      <td>...</td>\n",
              "      <td>...</td>\n",
              "      <td>...</td>\n",
              "      <td>...</td>\n",
              "    </tr>\n",
              "    <tr>\n",
              "      <th>645</th>\n",
              "      <td>646</td>\n",
              "      <td>@_sigesrek</td>\n",
              "      <td>\"aku memutuskan untuk menjadi fans isyana. gil...</td>\n",
              "      <td>Non-bullying</td>\n",
              "      <td>13 Februari 2021</td>\n",
              "      <td>@isyanasarasvati</td>\n",
              "      <td>NaN</td>\n",
              "      <td>NaN</td>\n",
              "    </tr>\n",
              "    <tr>\n",
              "      <th>646</th>\n",
              "      <td>647</td>\n",
              "      <td>@safronlux.id</td>\n",
              "      <td>\"AMZING ISYANAA!! Jujur aku amazed banget deng...</td>\n",
              "      <td>Non-bullying</td>\n",
              "      <td>13 Februari 2021</td>\n",
              "      <td>@isyanasarasvati</td>\n",
              "      <td>NaN</td>\n",
              "      <td>NaN</td>\n",
              "    </tr>\n",
              "    <tr>\n",
              "      <th>647</th>\n",
              "      <td>648</td>\n",
              "      <td>@rikzikmuktyana</td>\n",
              "      <td>\"paling ngiri liat orang keren maen alat musik...</td>\n",
              "      <td>Non-bullying</td>\n",
              "      <td>13 Februari 2021</td>\n",
              "      <td>@isyanasarasvati</td>\n",
              "      <td>NaN</td>\n",
              "      <td>NaN</td>\n",
              "    </tr>\n",
              "    <tr>\n",
              "      <th>648</th>\n",
              "      <td>649</td>\n",
              "      <td>@antoniusbennys</td>\n",
              "      <td>\"Sampe ga bisa berkata2 lagi buat isyana, sang...</td>\n",
              "      <td>Non-bullying</td>\n",
              "      <td>13 Februari 2021</td>\n",
              "      <td>@isyanasarasvati</td>\n",
              "      <td>NaN</td>\n",
              "      <td>NaN</td>\n",
              "    </tr>\n",
              "    <tr>\n",
              "      <th>649</th>\n",
              "      <td>650</td>\n",
              "      <td>@dikha.wirasathya</td>\n",
              "      <td>\"Inimah bukan main alat musik lagi. Olahraga j...</td>\n",
              "      <td>Non-bullying</td>\n",
              "      <td>13 Februari 2021</td>\n",
              "      <td>@isyanasarasvati</td>\n",
              "      <td>NaN</td>\n",
              "      <td>NaN</td>\n",
              "    </tr>\n",
              "  </tbody>\n",
              "</table>\n",
              "<p>650 rows × 8 columns</p>\n",
              "</div>\n",
              "      <button class=\"colab-df-convert\" onclick=\"convertToInteractive('df-95c466b7-02c8-43c7-b278-192db3014f2e')\"\n",
              "              title=\"Convert this dataframe to an interactive table.\"\n",
              "              style=\"display:none;\">\n",
              "        \n",
              "  <svg xmlns=\"http://www.w3.org/2000/svg\" height=\"24px\"viewBox=\"0 0 24 24\"\n",
              "       width=\"24px\">\n",
              "    <path d=\"M0 0h24v24H0V0z\" fill=\"none\"/>\n",
              "    <path d=\"M18.56 5.44l.94 2.06.94-2.06 2.06-.94-2.06-.94-.94-2.06-.94 2.06-2.06.94zm-11 1L8.5 8.5l.94-2.06 2.06-.94-2.06-.94L8.5 2.5l-.94 2.06-2.06.94zm10 10l.94 2.06.94-2.06 2.06-.94-2.06-.94-.94-2.06-.94 2.06-2.06.94z\"/><path d=\"M17.41 7.96l-1.37-1.37c-.4-.4-.92-.59-1.43-.59-.52 0-1.04.2-1.43.59L10.3 9.45l-7.72 7.72c-.78.78-.78 2.05 0 2.83L4 21.41c.39.39.9.59 1.41.59.51 0 1.02-.2 1.41-.59l7.78-7.78 2.81-2.81c.8-.78.8-2.07 0-2.86zM5.41 20L4 18.59l7.72-7.72 1.47 1.35L5.41 20z\"/>\n",
              "  </svg>\n",
              "      </button>\n",
              "      \n",
              "  <style>\n",
              "    .colab-df-container {\n",
              "      display:flex;\n",
              "      flex-wrap:wrap;\n",
              "      gap: 12px;\n",
              "    }\n",
              "\n",
              "    .colab-df-convert {\n",
              "      background-color: #E8F0FE;\n",
              "      border: none;\n",
              "      border-radius: 50%;\n",
              "      cursor: pointer;\n",
              "      display: none;\n",
              "      fill: #1967D2;\n",
              "      height: 32px;\n",
              "      padding: 0 0 0 0;\n",
              "      width: 32px;\n",
              "    }\n",
              "\n",
              "    .colab-df-convert:hover {\n",
              "      background-color: #E2EBFA;\n",
              "      box-shadow: 0px 1px 2px rgba(60, 64, 67, 0.3), 0px 1px 3px 1px rgba(60, 64, 67, 0.15);\n",
              "      fill: #174EA6;\n",
              "    }\n",
              "\n",
              "    [theme=dark] .colab-df-convert {\n",
              "      background-color: #3B4455;\n",
              "      fill: #D2E3FC;\n",
              "    }\n",
              "\n",
              "    [theme=dark] .colab-df-convert:hover {\n",
              "      background-color: #434B5C;\n",
              "      box-shadow: 0px 1px 3px 1px rgba(0, 0, 0, 0.15);\n",
              "      filter: drop-shadow(0px 1px 2px rgba(0, 0, 0, 0.3));\n",
              "      fill: #FFFFFF;\n",
              "    }\n",
              "  </style>\n",
              "\n",
              "      <script>\n",
              "        const buttonEl =\n",
              "          document.querySelector('#df-95c466b7-02c8-43c7-b278-192db3014f2e button.colab-df-convert');\n",
              "        buttonEl.style.display =\n",
              "          google.colab.kernel.accessAllowed ? 'block' : 'none';\n",
              "\n",
              "        async function convertToInteractive(key) {\n",
              "          const element = document.querySelector('#df-95c466b7-02c8-43c7-b278-192db3014f2e');\n",
              "          const dataTable =\n",
              "            await google.colab.kernel.invokeFunction('convertToInteractive',\n",
              "                                                     [key], {});\n",
              "          if (!dataTable) return;\n",
              "\n",
              "          const docLinkHtml = 'Like what you see? Visit the ' +\n",
              "            '<a target=\"_blank\" href=https://colab.research.google.com/notebooks/data_table.ipynb>data table notebook</a>'\n",
              "            + ' to learn more about interactive tables.';\n",
              "          element.innerHTML = '';\n",
              "          dataTable['output_type'] = 'display_data';\n",
              "          await google.colab.output.renderOutput(dataTable, element);\n",
              "          const docLink = document.createElement('div');\n",
              "          docLink.innerHTML = docLinkHtml;\n",
              "          element.appendChild(docLink);\n",
              "        }\n",
              "      </script>\n",
              "    </div>\n",
              "  </div>\n",
              "  "
            ]
          },
          "metadata": {},
          "execution_count": 34
        }
      ]
    },
    {
      "cell_type": "markdown",
      "source": [
        "#Text Pre Processing"
      ],
      "metadata": {
        "id": "05YypbPLXxqt"
      }
    },
    {
      "cell_type": "code",
      "source": [
        "# Lowercase\n",
        "def lowercase(text):\n",
        "    return text.lower()\n",
        "\n",
        "# Hilangkan Tanda Baca\n",
        "table = str.maketrans(\"\", \"\", string.punctuation)\n",
        "def remove_puncts(text):\n",
        "    return text.translate(table)\n",
        "\n",
        "# Praproses Teks\n",
        "def preprocess_text(text):\n",
        "    text = lowercase(text)\n",
        "    text = remove_puncts(text)\n",
        "    return text"
      ],
      "metadata": {
        "id": "XkVhui-rXWN8"
      },
      "execution_count": null,
      "outputs": []
    },
    {
      "cell_type": "code",
      "source": [
        "df['Komentar_Cleaned'] = df['Komentar'].apply(preprocess_text)\n",
        "df.head()"
      ],
      "metadata": {
        "colab": {
          "base_uri": "https://localhost:8080/",
          "height": 615
        },
        "id": "ZT20qJeRZ4dc",
        "outputId": "5ededdb1-7aed-4762-d583-4f92ed538d0a"
      },
      "execution_count": null,
      "outputs": [
        {
          "output_type": "execute_result",
          "data": {
            "text/plain": [
              "   No.  Nama Instagram                                           Komentar  \\\n",
              "0    1    @delliananda        \"Kaka tidur yaa, udah pagi, gaboleh capek2\"   \n",
              "1    2       @fenninbl            \"makan nasi padang aja begini badannya\"   \n",
              "2    3  @abdurahmanshq  \"yang aku suka dari dia adalah selalu cukur je...   \n",
              "3    4      @najla.yoo  \"Hai kak Isyana aku ngefans banget sama kak Is...   \n",
              "4    5   @dessy_______  \"Manusia apa bidadari sih herann deh cantik te...   \n",
              "\n",
              "       Kategori  Tanggal Posting Nama Akun IG  Artis/Selebgram  Unnamed: 6  \\\n",
              "0  Non-bullying  14 Oktober 2019              @isyanasarasvati         NaN   \n",
              "1  Non-bullying  14 Oktober 2019              @isyanasarasvati         NaN   \n",
              "2      Bullying  14 Oktober 2019              @isyanasarasvati         NaN   \n",
              "3  Non-bullying  14 Oktober 2019              @isyanasarasvati         NaN   \n",
              "4  Non-bullying  14 Oktober 2019              @isyanasarasvati         NaN   \n",
              "\n",
              "   Unnamed: 7                                   Komentar_Cleaned  \n",
              "0         NaN            kaka tidur yaa udah pagi gaboleh capek2  \n",
              "1         NaN              makan nasi padang aja begini badannya  \n",
              "2         NaN  yang aku suka dari dia adalah selalu cukur jem...  \n",
              "3         NaN  hai kak isyana aku ngefans banget sama kak isy...  \n",
              "4         NaN  manusia apa bidadari sih herann deh cantik ter...  "
            ],
            "text/html": [
              "\n",
              "  <div id=\"df-bc90f3f0-001b-46f6-9d7b-10b162265b40\">\n",
              "    <div class=\"colab-df-container\">\n",
              "      <div>\n",
              "<style scoped>\n",
              "    .dataframe tbody tr th:only-of-type {\n",
              "        vertical-align: middle;\n",
              "    }\n",
              "\n",
              "    .dataframe tbody tr th {\n",
              "        vertical-align: top;\n",
              "    }\n",
              "\n",
              "    .dataframe thead th {\n",
              "        text-align: right;\n",
              "    }\n",
              "</style>\n",
              "<table border=\"1\" class=\"dataframe\">\n",
              "  <thead>\n",
              "    <tr style=\"text-align: right;\">\n",
              "      <th></th>\n",
              "      <th>No.</th>\n",
              "      <th>Nama Instagram</th>\n",
              "      <th>Komentar</th>\n",
              "      <th>Kategori</th>\n",
              "      <th>Tanggal Posting</th>\n",
              "      <th>Nama Akun IG  Artis/Selebgram</th>\n",
              "      <th>Unnamed: 6</th>\n",
              "      <th>Unnamed: 7</th>\n",
              "      <th>Komentar_Cleaned</th>\n",
              "    </tr>\n",
              "  </thead>\n",
              "  <tbody>\n",
              "    <tr>\n",
              "      <th>0</th>\n",
              "      <td>1</td>\n",
              "      <td>@delliananda</td>\n",
              "      <td>\"Kaka tidur yaa, udah pagi, gaboleh capek2\"</td>\n",
              "      <td>Non-bullying</td>\n",
              "      <td>14 Oktober 2019</td>\n",
              "      <td>@isyanasarasvati</td>\n",
              "      <td>NaN</td>\n",
              "      <td>NaN</td>\n",
              "      <td>kaka tidur yaa udah pagi gaboleh capek2</td>\n",
              "    </tr>\n",
              "    <tr>\n",
              "      <th>1</th>\n",
              "      <td>2</td>\n",
              "      <td>@fenninbl</td>\n",
              "      <td>\"makan nasi padang aja begini badannya\"</td>\n",
              "      <td>Non-bullying</td>\n",
              "      <td>14 Oktober 2019</td>\n",
              "      <td>@isyanasarasvati</td>\n",
              "      <td>NaN</td>\n",
              "      <td>NaN</td>\n",
              "      <td>makan nasi padang aja begini badannya</td>\n",
              "    </tr>\n",
              "    <tr>\n",
              "      <th>2</th>\n",
              "      <td>3</td>\n",
              "      <td>@abdurahmanshq</td>\n",
              "      <td>\"yang aku suka dari dia adalah selalu cukur je...</td>\n",
              "      <td>Bullying</td>\n",
              "      <td>14 Oktober 2019</td>\n",
              "      <td>@isyanasarasvati</td>\n",
              "      <td>NaN</td>\n",
              "      <td>NaN</td>\n",
              "      <td>yang aku suka dari dia adalah selalu cukur jem...</td>\n",
              "    </tr>\n",
              "    <tr>\n",
              "      <th>3</th>\n",
              "      <td>4</td>\n",
              "      <td>@najla.yoo</td>\n",
              "      <td>\"Hai kak Isyana aku ngefans banget sama kak Is...</td>\n",
              "      <td>Non-bullying</td>\n",
              "      <td>14 Oktober 2019</td>\n",
              "      <td>@isyanasarasvati</td>\n",
              "      <td>NaN</td>\n",
              "      <td>NaN</td>\n",
              "      <td>hai kak isyana aku ngefans banget sama kak isy...</td>\n",
              "    </tr>\n",
              "    <tr>\n",
              "      <th>4</th>\n",
              "      <td>5</td>\n",
              "      <td>@dessy_______</td>\n",
              "      <td>\"Manusia apa bidadari sih herann deh cantik te...</td>\n",
              "      <td>Non-bullying</td>\n",
              "      <td>14 Oktober 2019</td>\n",
              "      <td>@isyanasarasvati</td>\n",
              "      <td>NaN</td>\n",
              "      <td>NaN</td>\n",
              "      <td>manusia apa bidadari sih herann deh cantik ter...</td>\n",
              "    </tr>\n",
              "  </tbody>\n",
              "</table>\n",
              "</div>\n",
              "      <button class=\"colab-df-convert\" onclick=\"convertToInteractive('df-bc90f3f0-001b-46f6-9d7b-10b162265b40')\"\n",
              "              title=\"Convert this dataframe to an interactive table.\"\n",
              "              style=\"display:none;\">\n",
              "        \n",
              "  <svg xmlns=\"http://www.w3.org/2000/svg\" height=\"24px\"viewBox=\"0 0 24 24\"\n",
              "       width=\"24px\">\n",
              "    <path d=\"M0 0h24v24H0V0z\" fill=\"none\"/>\n",
              "    <path d=\"M18.56 5.44l.94 2.06.94-2.06 2.06-.94-2.06-.94-.94-2.06-.94 2.06-2.06.94zm-11 1L8.5 8.5l.94-2.06 2.06-.94-2.06-.94L8.5 2.5l-.94 2.06-2.06.94zm10 10l.94 2.06.94-2.06 2.06-.94-2.06-.94-.94-2.06-.94 2.06-2.06.94z\"/><path d=\"M17.41 7.96l-1.37-1.37c-.4-.4-.92-.59-1.43-.59-.52 0-1.04.2-1.43.59L10.3 9.45l-7.72 7.72c-.78.78-.78 2.05 0 2.83L4 21.41c.39.39.9.59 1.41.59.51 0 1.02-.2 1.41-.59l7.78-7.78 2.81-2.81c.8-.78.8-2.07 0-2.86zM5.41 20L4 18.59l7.72-7.72 1.47 1.35L5.41 20z\"/>\n",
              "  </svg>\n",
              "      </button>\n",
              "      \n",
              "  <style>\n",
              "    .colab-df-container {\n",
              "      display:flex;\n",
              "      flex-wrap:wrap;\n",
              "      gap: 12px;\n",
              "    }\n",
              "\n",
              "    .colab-df-convert {\n",
              "      background-color: #E8F0FE;\n",
              "      border: none;\n",
              "      border-radius: 50%;\n",
              "      cursor: pointer;\n",
              "      display: none;\n",
              "      fill: #1967D2;\n",
              "      height: 32px;\n",
              "      padding: 0 0 0 0;\n",
              "      width: 32px;\n",
              "    }\n",
              "\n",
              "    .colab-df-convert:hover {\n",
              "      background-color: #E2EBFA;\n",
              "      box-shadow: 0px 1px 2px rgba(60, 64, 67, 0.3), 0px 1px 3px 1px rgba(60, 64, 67, 0.15);\n",
              "      fill: #174EA6;\n",
              "    }\n",
              "\n",
              "    [theme=dark] .colab-df-convert {\n",
              "      background-color: #3B4455;\n",
              "      fill: #D2E3FC;\n",
              "    }\n",
              "\n",
              "    [theme=dark] .colab-df-convert:hover {\n",
              "      background-color: #434B5C;\n",
              "      box-shadow: 0px 1px 3px 1px rgba(0, 0, 0, 0.15);\n",
              "      filter: drop-shadow(0px 1px 2px rgba(0, 0, 0, 0.3));\n",
              "      fill: #FFFFFF;\n",
              "    }\n",
              "  </style>\n",
              "\n",
              "      <script>\n",
              "        const buttonEl =\n",
              "          document.querySelector('#df-bc90f3f0-001b-46f6-9d7b-10b162265b40 button.colab-df-convert');\n",
              "        buttonEl.style.display =\n",
              "          google.colab.kernel.accessAllowed ? 'block' : 'none';\n",
              "\n",
              "        async function convertToInteractive(key) {\n",
              "          const element = document.querySelector('#df-bc90f3f0-001b-46f6-9d7b-10b162265b40');\n",
              "          const dataTable =\n",
              "            await google.colab.kernel.invokeFunction('convertToInteractive',\n",
              "                                                     [key], {});\n",
              "          if (!dataTable) return;\n",
              "\n",
              "          const docLinkHtml = 'Like what you see? Visit the ' +\n",
              "            '<a target=\"_blank\" href=https://colab.research.google.com/notebooks/data_table.ipynb>data table notebook</a>'\n",
              "            + ' to learn more about interactive tables.';\n",
              "          element.innerHTML = '';\n",
              "          dataTable['output_type'] = 'display_data';\n",
              "          await google.colab.output.renderOutput(dataTable, element);\n",
              "          const docLink = document.createElement('div');\n",
              "          docLink.innerHTML = docLinkHtml;\n",
              "          element.appendChild(docLink);\n",
              "        }\n",
              "      </script>\n",
              "    </div>\n",
              "  </div>\n",
              "  "
            ]
          },
          "metadata": {},
          "execution_count": 36
        }
      ]
    },
    {
      "cell_type": "markdown",
      "source": [
        "## Labelling"
      ],
      "metadata": {
        "id": "c2-ndyJlbcx5"
      }
    },
    {
      "cell_type": "markdown",
      "source": [
        "Labeling kategori ***BULLYING*** = 0 dan ***NON-BULLYING***  = 1"
      ],
      "metadata": {
        "id": "V8VVmT-f8-zk"
      }
    },
    {
      "cell_type": "code",
      "source": [
        "df['Kategori'].replace(['Non-bullying'],1, inplace=True)\n",
        "df['Kategori'].replace(['Bullying'],0, inplace=True)\n",
        "df.head(8)"
      ],
      "metadata": {
        "colab": {
          "base_uri": "https://localhost:8080/",
          "height": 833
        },
        "id": "OofntSvzbcGU",
        "outputId": "3b871d34-ac84-4e8c-9767-490a83b12e6c"
      },
      "execution_count": null,
      "outputs": [
        {
          "output_type": "execute_result",
          "data": {
            "text/plain": [
              "   No.       Nama Instagram  \\\n",
              "0    1         @delliananda   \n",
              "1    2            @fenninbl   \n",
              "2    3       @abdurahmanshq   \n",
              "3    4           @najla.yoo   \n",
              "4    5        @dessy_______   \n",
              "5    6              @e.fril   \n",
              "6    7  @bahasa.bayi.planet   \n",
              "7    8     @khanayarudinita   \n",
              "\n",
              "                                            Komentar  Kategori  \\\n",
              "0        \"Kaka tidur yaa, udah pagi, gaboleh capek2\"         1   \n",
              "1            \"makan nasi padang aja begini badannya\"         1   \n",
              "2  \"yang aku suka dari dia adalah selalu cukur je...         0   \n",
              "3  \"Hai kak Isyana aku ngefans banget sama kak Is...         1   \n",
              "4  \"Manusia apa bidadari sih herann deh cantik te...         1   \n",
              "5  \"@ayu.kinantii isyan skrg berubah ya:( baju ny...         0   \n",
              "6  \"Gemesnya isyan kayak tango, berlapis lapis ci...         1   \n",
              "7  \"Makin jelek aja anaknya, padahal ibu ayahnya ...         0   \n",
              "\n",
              "     Tanggal Posting Nama Akun IG  Artis/Selebgram  Unnamed: 6  Unnamed: 7  \\\n",
              "0    14 Oktober 2019              @isyanasarasvati         NaN         NaN   \n",
              "1    14 Oktober 2019              @isyanasarasvati         NaN         NaN   \n",
              "2    14 Oktober 2019              @isyanasarasvati         NaN         NaN   \n",
              "3    14 Oktober 2019              @isyanasarasvati         NaN         NaN   \n",
              "4    14 Oktober 2019              @isyanasarasvati         NaN         NaN   \n",
              "5    14 Oktober 2019              @isyanasarasvati         NaN         NaN   \n",
              "6  16 September 2019              @isyanasarasvati         NaN         NaN   \n",
              "7       22 Juni 2019                  @tasyakamila         NaN         NaN   \n",
              "\n",
              "                                    Komentar_Cleaned  \n",
              "0            kaka tidur yaa udah pagi gaboleh capek2  \n",
              "1              makan nasi padang aja begini badannya  \n",
              "2  yang aku suka dari dia adalah selalu cukur jem...  \n",
              "3  hai kak isyana aku ngefans banget sama kak isy...  \n",
              "4  manusia apa bidadari sih herann deh cantik ter...  \n",
              "5   ayukinantii isyan skrg berubah ya baju nya nakal  \n",
              "6   gemesnya isyan kayak tango berlapis lapis ciaaaa  \n",
              "7  makin jelek aja anaknya padahal ibu ayahnya ca...  "
            ],
            "text/html": [
              "\n",
              "  <div id=\"df-c448fd4c-9e86-4249-9093-61e7e7103e89\">\n",
              "    <div class=\"colab-df-container\">\n",
              "      <div>\n",
              "<style scoped>\n",
              "    .dataframe tbody tr th:only-of-type {\n",
              "        vertical-align: middle;\n",
              "    }\n",
              "\n",
              "    .dataframe tbody tr th {\n",
              "        vertical-align: top;\n",
              "    }\n",
              "\n",
              "    .dataframe thead th {\n",
              "        text-align: right;\n",
              "    }\n",
              "</style>\n",
              "<table border=\"1\" class=\"dataframe\">\n",
              "  <thead>\n",
              "    <tr style=\"text-align: right;\">\n",
              "      <th></th>\n",
              "      <th>No.</th>\n",
              "      <th>Nama Instagram</th>\n",
              "      <th>Komentar</th>\n",
              "      <th>Kategori</th>\n",
              "      <th>Tanggal Posting</th>\n",
              "      <th>Nama Akun IG  Artis/Selebgram</th>\n",
              "      <th>Unnamed: 6</th>\n",
              "      <th>Unnamed: 7</th>\n",
              "      <th>Komentar_Cleaned</th>\n",
              "    </tr>\n",
              "  </thead>\n",
              "  <tbody>\n",
              "    <tr>\n",
              "      <th>0</th>\n",
              "      <td>1</td>\n",
              "      <td>@delliananda</td>\n",
              "      <td>\"Kaka tidur yaa, udah pagi, gaboleh capek2\"</td>\n",
              "      <td>1</td>\n",
              "      <td>14 Oktober 2019</td>\n",
              "      <td>@isyanasarasvati</td>\n",
              "      <td>NaN</td>\n",
              "      <td>NaN</td>\n",
              "      <td>kaka tidur yaa udah pagi gaboleh capek2</td>\n",
              "    </tr>\n",
              "    <tr>\n",
              "      <th>1</th>\n",
              "      <td>2</td>\n",
              "      <td>@fenninbl</td>\n",
              "      <td>\"makan nasi padang aja begini badannya\"</td>\n",
              "      <td>1</td>\n",
              "      <td>14 Oktober 2019</td>\n",
              "      <td>@isyanasarasvati</td>\n",
              "      <td>NaN</td>\n",
              "      <td>NaN</td>\n",
              "      <td>makan nasi padang aja begini badannya</td>\n",
              "    </tr>\n",
              "    <tr>\n",
              "      <th>2</th>\n",
              "      <td>3</td>\n",
              "      <td>@abdurahmanshq</td>\n",
              "      <td>\"yang aku suka dari dia adalah selalu cukur je...</td>\n",
              "      <td>0</td>\n",
              "      <td>14 Oktober 2019</td>\n",
              "      <td>@isyanasarasvati</td>\n",
              "      <td>NaN</td>\n",
              "      <td>NaN</td>\n",
              "      <td>yang aku suka dari dia adalah selalu cukur jem...</td>\n",
              "    </tr>\n",
              "    <tr>\n",
              "      <th>3</th>\n",
              "      <td>4</td>\n",
              "      <td>@najla.yoo</td>\n",
              "      <td>\"Hai kak Isyana aku ngefans banget sama kak Is...</td>\n",
              "      <td>1</td>\n",
              "      <td>14 Oktober 2019</td>\n",
              "      <td>@isyanasarasvati</td>\n",
              "      <td>NaN</td>\n",
              "      <td>NaN</td>\n",
              "      <td>hai kak isyana aku ngefans banget sama kak isy...</td>\n",
              "    </tr>\n",
              "    <tr>\n",
              "      <th>4</th>\n",
              "      <td>5</td>\n",
              "      <td>@dessy_______</td>\n",
              "      <td>\"Manusia apa bidadari sih herann deh cantik te...</td>\n",
              "      <td>1</td>\n",
              "      <td>14 Oktober 2019</td>\n",
              "      <td>@isyanasarasvati</td>\n",
              "      <td>NaN</td>\n",
              "      <td>NaN</td>\n",
              "      <td>manusia apa bidadari sih herann deh cantik ter...</td>\n",
              "    </tr>\n",
              "    <tr>\n",
              "      <th>5</th>\n",
              "      <td>6</td>\n",
              "      <td>@e.fril</td>\n",
              "      <td>\"@ayu.kinantii isyan skrg berubah ya:( baju ny...</td>\n",
              "      <td>0</td>\n",
              "      <td>14 Oktober 2019</td>\n",
              "      <td>@isyanasarasvati</td>\n",
              "      <td>NaN</td>\n",
              "      <td>NaN</td>\n",
              "      <td>ayukinantii isyan skrg berubah ya baju nya nakal</td>\n",
              "    </tr>\n",
              "    <tr>\n",
              "      <th>6</th>\n",
              "      <td>7</td>\n",
              "      <td>@bahasa.bayi.planet</td>\n",
              "      <td>\"Gemesnya isyan kayak tango, berlapis lapis ci...</td>\n",
              "      <td>1</td>\n",
              "      <td>16 September 2019</td>\n",
              "      <td>@isyanasarasvati</td>\n",
              "      <td>NaN</td>\n",
              "      <td>NaN</td>\n",
              "      <td>gemesnya isyan kayak tango berlapis lapis ciaaaa</td>\n",
              "    </tr>\n",
              "    <tr>\n",
              "      <th>7</th>\n",
              "      <td>8</td>\n",
              "      <td>@khanayarudinita</td>\n",
              "      <td>\"Makin jelek aja anaknya, padahal ibu ayahnya ...</td>\n",
              "      <td>0</td>\n",
              "      <td>22 Juni 2019</td>\n",
              "      <td>@tasyakamila</td>\n",
              "      <td>NaN</td>\n",
              "      <td>NaN</td>\n",
              "      <td>makin jelek aja anaknya padahal ibu ayahnya ca...</td>\n",
              "    </tr>\n",
              "  </tbody>\n",
              "</table>\n",
              "</div>\n",
              "      <button class=\"colab-df-convert\" onclick=\"convertToInteractive('df-c448fd4c-9e86-4249-9093-61e7e7103e89')\"\n",
              "              title=\"Convert this dataframe to an interactive table.\"\n",
              "              style=\"display:none;\">\n",
              "        \n",
              "  <svg xmlns=\"http://www.w3.org/2000/svg\" height=\"24px\"viewBox=\"0 0 24 24\"\n",
              "       width=\"24px\">\n",
              "    <path d=\"M0 0h24v24H0V0z\" fill=\"none\"/>\n",
              "    <path d=\"M18.56 5.44l.94 2.06.94-2.06 2.06-.94-2.06-.94-.94-2.06-.94 2.06-2.06.94zm-11 1L8.5 8.5l.94-2.06 2.06-.94-2.06-.94L8.5 2.5l-.94 2.06-2.06.94zm10 10l.94 2.06.94-2.06 2.06-.94-2.06-.94-.94-2.06-.94 2.06-2.06.94z\"/><path d=\"M17.41 7.96l-1.37-1.37c-.4-.4-.92-.59-1.43-.59-.52 0-1.04.2-1.43.59L10.3 9.45l-7.72 7.72c-.78.78-.78 2.05 0 2.83L4 21.41c.39.39.9.59 1.41.59.51 0 1.02-.2 1.41-.59l7.78-7.78 2.81-2.81c.8-.78.8-2.07 0-2.86zM5.41 20L4 18.59l7.72-7.72 1.47 1.35L5.41 20z\"/>\n",
              "  </svg>\n",
              "      </button>\n",
              "      \n",
              "  <style>\n",
              "    .colab-df-container {\n",
              "      display:flex;\n",
              "      flex-wrap:wrap;\n",
              "      gap: 12px;\n",
              "    }\n",
              "\n",
              "    .colab-df-convert {\n",
              "      background-color: #E8F0FE;\n",
              "      border: none;\n",
              "      border-radius: 50%;\n",
              "      cursor: pointer;\n",
              "      display: none;\n",
              "      fill: #1967D2;\n",
              "      height: 32px;\n",
              "      padding: 0 0 0 0;\n",
              "      width: 32px;\n",
              "    }\n",
              "\n",
              "    .colab-df-convert:hover {\n",
              "      background-color: #E2EBFA;\n",
              "      box-shadow: 0px 1px 2px rgba(60, 64, 67, 0.3), 0px 1px 3px 1px rgba(60, 64, 67, 0.15);\n",
              "      fill: #174EA6;\n",
              "    }\n",
              "\n",
              "    [theme=dark] .colab-df-convert {\n",
              "      background-color: #3B4455;\n",
              "      fill: #D2E3FC;\n",
              "    }\n",
              "\n",
              "    [theme=dark] .colab-df-convert:hover {\n",
              "      background-color: #434B5C;\n",
              "      box-shadow: 0px 1px 3px 1px rgba(0, 0, 0, 0.15);\n",
              "      filter: drop-shadow(0px 1px 2px rgba(0, 0, 0, 0.3));\n",
              "      fill: #FFFFFF;\n",
              "    }\n",
              "  </style>\n",
              "\n",
              "      <script>\n",
              "        const buttonEl =\n",
              "          document.querySelector('#df-c448fd4c-9e86-4249-9093-61e7e7103e89 button.colab-df-convert');\n",
              "        buttonEl.style.display =\n",
              "          google.colab.kernel.accessAllowed ? 'block' : 'none';\n",
              "\n",
              "        async function convertToInteractive(key) {\n",
              "          const element = document.querySelector('#df-c448fd4c-9e86-4249-9093-61e7e7103e89');\n",
              "          const dataTable =\n",
              "            await google.colab.kernel.invokeFunction('convertToInteractive',\n",
              "                                                     [key], {});\n",
              "          if (!dataTable) return;\n",
              "\n",
              "          const docLinkHtml = 'Like what you see? Visit the ' +\n",
              "            '<a target=\"_blank\" href=https://colab.research.google.com/notebooks/data_table.ipynb>data table notebook</a>'\n",
              "            + ' to learn more about interactive tables.';\n",
              "          element.innerHTML = '';\n",
              "          dataTable['output_type'] = 'display_data';\n",
              "          await google.colab.output.renderOutput(dataTable, element);\n",
              "          const docLink = document.createElement('div');\n",
              "          docLink.innerHTML = docLinkHtml;\n",
              "          element.appendChild(docLink);\n",
              "        }\n",
              "      </script>\n",
              "    </div>\n",
              "  </div>\n",
              "  "
            ]
          },
          "metadata": {},
          "execution_count": 37
        }
      ]
    },
    {
      "cell_type": "markdown",
      "source": [
        "# Train Test SPlit"
      ],
      "metadata": {
        "id": "oE0cwIcfbNNm"
      }
    },
    {
      "cell_type": "code",
      "source": [
        "X_train, X_test, y_train, y_test = train_test_split(df['Komentar_Cleaned'], df['Kategori'])"
      ],
      "metadata": {
        "id": "CYKfaQ1CbRXZ"
      },
      "execution_count": null,
      "outputs": []
    },
    {
      "cell_type": "markdown",
      "source": [
        "#Vectorization"
      ],
      "metadata": {
        "id": "66FqO_mzdLlJ"
      }
    },
    {
      "cell_type": "code",
      "source": [
        "maxlen = df[\"Komentar_Cleaned\"].str.split().str.len().max()\n",
        "maxlen"
      ],
      "metadata": {
        "colab": {
          "base_uri": "https://localhost:8080/"
        },
        "id": "zUazlPHMdNEp",
        "outputId": "06901975-afc6-4fc2-fd5d-589a62f631b6"
      },
      "execution_count": null,
      "outputs": [
        {
          "output_type": "execute_result",
          "data": {
            "text/plain": [
              "31"
            ]
          },
          "metadata": {},
          "execution_count": 39
        }
      ]
    },
    {
      "cell_type": "markdown",
      "source": [
        "## Tokenizer"
      ],
      "metadata": {
        "id": "UiYcw3l9dbnd"
      }
    },
    {
      "cell_type": "code",
      "source": [
        "# Tokenizer\n",
        "tokenizer = keras.preprocessing.text.Tokenizer(num_words=10000)\n",
        "\n",
        "# Update kosa kata\n",
        "tokenizer.fit_on_texts(df[\"Komentar_Cleaned\"])\n",
        "\n",
        "# Ubah teks menjadi sequence\n",
        "X_train_sequence = tokenizer.texts_to_sequences(X_train)\n",
        "X_test_sequence = tokenizer.texts_to_sequences(X_test)\n",
        "\n",
        "# # Samakan panjang kalimat\n",
        "X_train_sequence = keras.preprocessing.sequence.pad_sequences(X_train_sequence, maxlen=maxlen, padding=\"post\")\n",
        "X_test_sequence = keras.preprocessing.sequence.pad_sequences(X_test_sequence, maxlen=maxlen, padding=\"post\")"
      ],
      "metadata": {
        "id": "0Bnn-D01dUEv"
      },
      "execution_count": null,
      "outputs": []
    },
    {
      "cell_type": "code",
      "source": [
        "X_train_sequence.shape"
      ],
      "metadata": {
        "colab": {
          "base_uri": "https://localhost:8080/"
        },
        "id": "Dh1xmuLddsk_",
        "outputId": "34b0419b-4525-43b2-d37b-20dfe372ccec"
      },
      "execution_count": null,
      "outputs": [
        {
          "output_type": "execute_result",
          "data": {
            "text/plain": [
              "(487, 31)"
            ]
          },
          "metadata": {},
          "execution_count": 41
        }
      ]
    },
    {
      "cell_type": "code",
      "source": [
        "X_test_sequence.shape"
      ],
      "metadata": {
        "id": "DG7MYPEbdvJq",
        "colab": {
          "base_uri": "https://localhost:8080/"
        },
        "outputId": "29ae152f-1eb4-4ed1-dcb9-e2be57378a37"
      },
      "execution_count": null,
      "outputs": [
        {
          "output_type": "execute_result",
          "data": {
            "text/plain": [
              "(163, 31)"
            ]
          },
          "metadata": {},
          "execution_count": 42
        }
      ]
    },
    {
      "cell_type": "code",
      "source": [
        "X_train_sequence"
      ],
      "metadata": {
        "colab": {
          "base_uri": "https://localhost:8080/"
        },
        "id": "efa6UCpayMVJ",
        "outputId": "322bd643-03e0-4327-a4fc-89904deb58ea"
      },
      "execution_count": null,
      "outputs": [
        {
          "output_type": "execute_result",
          "data": {
            "text/plain": [
              "array([[ 154,   71,   47, ...,    0,    0,    0],\n",
              "       [ 683, 1359,  455, ...,    0,    0,    0],\n",
              "       [  55, 1023,   44, ...,    0,    0,    0],\n",
              "       ...,\n",
              "       [1629,   80,   14, ...,    0,    0,    0],\n",
              "       [  42,   62,   36, ...,    0,    0,    0],\n",
              "       [  48,   10,   14, ...,    0,    0,    0]], dtype=int32)"
            ]
          },
          "metadata": {},
          "execution_count": 43
        }
      ]
    },
    {
      "cell_type": "markdown",
      "source": [
        "#Modelling"
      ],
      "metadata": {
        "id": "plZHPoIAzAdQ"
      }
    },
    {
      "cell_type": "code",
      "source": [
        "# Parameter Belajar\n",
        "BATCH_SIZE = 32\n",
        "EPOCH = 30\n",
        "EMBEDDING_DIM = 32"
      ],
      "metadata": {
        "id": "KYOf3F3q5hPw"
      },
      "execution_count": null,
      "outputs": []
    },
    {
      "cell_type": "markdown",
      "source": [
        "##Word Embedding"
      ],
      "metadata": {
        "id": "QRttCv_M0-g0"
      }
    },
    {
      "cell_type": "code",
      "source": [
        "# Model menerima input dengan dimensi ke-2 sebesar \"maxlen\"\n",
        "inputs = keras.layers.Input(shape=(maxlen,))\n",
        "\n",
        "# Tiap elemen dalam dimensi terakhir akan di tanamkan vektor\n",
        "x = keras.layers.Embedding(10000, EMBEDDING_DIM, input_length=maxlen)(inputs)\n",
        "\n",
        "# Ratakan word embedding\n",
        "x = keras.layers.Flatten()(x)\n",
        "\n",
        "# Salurkan ke layer klasifikasi\n",
        "outputs = keras.layers.Dense(1, activation=\"sigmoid\")(x)\n",
        "\n",
        "# Buat model\n",
        "model_embed = keras.models.Model(inputs=inputs, outputs=outputs)\n",
        "\n",
        "# Compile\n",
        "model_embed.compile(\n",
        "    optimizer=tf.keras.optimizers.Adam(),\n",
        "    loss=tf.keras.losses.BinaryCrossentropy(),\n",
        "    metrics=[tf.keras.metrics.BinaryAccuracy()]\n",
        ")\n",
        "\n",
        "# Cek struktur model\n",
        "model_embed.summary()"
      ],
      "metadata": {
        "colab": {
          "base_uri": "https://localhost:8080/"
        },
        "id": "Rjroql2B09N_",
        "outputId": "0e340f98-8fcb-445e-ec72-6d2be8615b13"
      },
      "execution_count": null,
      "outputs": [
        {
          "output_type": "stream",
          "name": "stdout",
          "text": [
            "Model: \"model_10\"\n",
            "_________________________________________________________________\n",
            " Layer (type)                Output Shape              Param #   \n",
            "=================================================================\n",
            " input_13 (InputLayer)       [(None, 31)]              0         \n",
            "                                                                 \n",
            " embedding_11 (Embedding)    (None, 31, 32)            320000    \n",
            "                                                                 \n",
            " flatten_3 (Flatten)         (None, 992)               0         \n",
            "                                                                 \n",
            " dense_10 (Dense)            (None, 1)                 993       \n",
            "                                                                 \n",
            "=================================================================\n",
            "Total params: 320,993\n",
            "Trainable params: 320,993\n",
            "Non-trainable params: 0\n",
            "_________________________________________________________________\n"
          ]
        }
      ]
    },
    {
      "cell_type": "code",
      "source": [
        "# Training\n",
        "history_embedding = model_embed.fit(\n",
        "    x=X_train_sequence,\n",
        "    y=y_train,\n",
        "    batch_size=BATCH_SIZE,\n",
        "    epochs=EPOCH,\n",
        "    validation_split=0.2,\n",
        ")"
      ],
      "metadata": {
        "colab": {
          "base_uri": "https://localhost:8080/"
        },
        "id": "OLfZVdUN1gpY",
        "outputId": "6389a66a-ed45-4bd9-8a54-bcb4a44b325e"
      },
      "execution_count": null,
      "outputs": [
        {
          "output_type": "stream",
          "name": "stdout",
          "text": [
            "Epoch 1/30\n",
            "13/13 [==============================] - 1s 24ms/step - loss: 0.6962 - binary_accuracy: 0.4550 - val_loss: 0.6924 - val_binary_accuracy: 0.4592\n",
            "Epoch 2/30\n",
            "13/13 [==============================] - 0s 10ms/step - loss: 0.6773 - binary_accuracy: 0.7686 - val_loss: 0.6824 - val_binary_accuracy: 0.6735\n",
            "Epoch 3/30\n",
            "13/13 [==============================] - 0s 11ms/step - loss: 0.6579 - binary_accuracy: 0.9254 - val_loss: 0.6789 - val_binary_accuracy: 0.7347\n",
            "Epoch 4/30\n",
            "13/13 [==============================] - 0s 10ms/step - loss: 0.6354 - binary_accuracy: 0.9949 - val_loss: 0.6728 - val_binary_accuracy: 0.7449\n",
            "Epoch 5/30\n",
            "13/13 [==============================] - 0s 10ms/step - loss: 0.6069 - binary_accuracy: 0.9846 - val_loss: 0.6604 - val_binary_accuracy: 0.7245\n",
            "Epoch 6/30\n",
            "13/13 [==============================] - 0s 9ms/step - loss: 0.5701 - binary_accuracy: 0.9563 - val_loss: 0.6460 - val_binary_accuracy: 0.7143\n",
            "Epoch 7/30\n",
            "13/13 [==============================] - 0s 11ms/step - loss: 0.5268 - binary_accuracy: 0.9512 - val_loss: 0.6319 - val_binary_accuracy: 0.7245\n",
            "Epoch 8/30\n",
            "13/13 [==============================] - 0s 12ms/step - loss: 0.4773 - binary_accuracy: 0.9743 - val_loss: 0.6187 - val_binary_accuracy: 0.7347\n",
            "Epoch 9/30\n",
            "13/13 [==============================] - 0s 11ms/step - loss: 0.4252 - binary_accuracy: 1.0000 - val_loss: 0.6046 - val_binary_accuracy: 0.7347\n",
            "Epoch 10/30\n",
            "13/13 [==============================] - 0s 9ms/step - loss: 0.3721 - binary_accuracy: 1.0000 - val_loss: 0.5901 - val_binary_accuracy: 0.7449\n",
            "Epoch 11/30\n",
            "13/13 [==============================] - 0s 10ms/step - loss: 0.3218 - binary_accuracy: 1.0000 - val_loss: 0.5745 - val_binary_accuracy: 0.7449\n",
            "Epoch 12/30\n",
            "13/13 [==============================] - 0s 9ms/step - loss: 0.2747 - binary_accuracy: 1.0000 - val_loss: 0.5623 - val_binary_accuracy: 0.7347\n",
            "Epoch 13/30\n",
            "13/13 [==============================] - 0s 9ms/step - loss: 0.2335 - binary_accuracy: 1.0000 - val_loss: 0.5501 - val_binary_accuracy: 0.7347\n",
            "Epoch 14/30\n",
            "13/13 [==============================] - 0s 9ms/step - loss: 0.1977 - binary_accuracy: 1.0000 - val_loss: 0.5381 - val_binary_accuracy: 0.7449\n",
            "Epoch 15/30\n",
            "13/13 [==============================] - 0s 10ms/step - loss: 0.1677 - binary_accuracy: 1.0000 - val_loss: 0.5273 - val_binary_accuracy: 0.7449\n",
            "Epoch 16/30\n",
            "13/13 [==============================] - 0s 11ms/step - loss: 0.1431 - binary_accuracy: 1.0000 - val_loss: 0.5184 - val_binary_accuracy: 0.7449\n",
            "Epoch 17/30\n",
            "13/13 [==============================] - 0s 10ms/step - loss: 0.1226 - binary_accuracy: 1.0000 - val_loss: 0.5107 - val_binary_accuracy: 0.7347\n",
            "Epoch 18/30\n",
            "13/13 [==============================] - 0s 9ms/step - loss: 0.1053 - binary_accuracy: 1.0000 - val_loss: 0.5063 - val_binary_accuracy: 0.7551\n",
            "Epoch 19/30\n",
            "13/13 [==============================] - 0s 9ms/step - loss: 0.0911 - binary_accuracy: 1.0000 - val_loss: 0.5034 - val_binary_accuracy: 0.7347\n",
            "Epoch 20/30\n",
            "13/13 [==============================] - 0s 8ms/step - loss: 0.0794 - binary_accuracy: 1.0000 - val_loss: 0.4976 - val_binary_accuracy: 0.7347\n",
            "Epoch 21/30\n",
            "13/13 [==============================] - 0s 9ms/step - loss: 0.0697 - binary_accuracy: 1.0000 - val_loss: 0.4925 - val_binary_accuracy: 0.7551\n",
            "Epoch 22/30\n",
            "13/13 [==============================] - 0s 10ms/step - loss: 0.0615 - binary_accuracy: 1.0000 - val_loss: 0.4888 - val_binary_accuracy: 0.7449\n",
            "Epoch 23/30\n",
            "13/13 [==============================] - 0s 9ms/step - loss: 0.0544 - binary_accuracy: 1.0000 - val_loss: 0.4874 - val_binary_accuracy: 0.7347\n",
            "Epoch 24/30\n",
            "13/13 [==============================] - 0s 9ms/step - loss: 0.0486 - binary_accuracy: 1.0000 - val_loss: 0.4862 - val_binary_accuracy: 0.7449\n",
            "Epoch 25/30\n",
            "13/13 [==============================] - 0s 10ms/step - loss: 0.0436 - binary_accuracy: 1.0000 - val_loss: 0.4846 - val_binary_accuracy: 0.7245\n",
            "Epoch 26/30\n",
            "13/13 [==============================] - 0s 10ms/step - loss: 0.0392 - binary_accuracy: 1.0000 - val_loss: 0.4832 - val_binary_accuracy: 0.7245\n",
            "Epoch 27/30\n",
            "13/13 [==============================] - 0s 10ms/step - loss: 0.0355 - binary_accuracy: 1.0000 - val_loss: 0.4819 - val_binary_accuracy: 0.7245\n",
            "Epoch 28/30\n",
            "13/13 [==============================] - 0s 9ms/step - loss: 0.0322 - binary_accuracy: 1.0000 - val_loss: 0.4807 - val_binary_accuracy: 0.7245\n",
            "Epoch 29/30\n",
            "13/13 [==============================] - 0s 10ms/step - loss: 0.0294 - binary_accuracy: 1.0000 - val_loss: 0.4800 - val_binary_accuracy: 0.7245\n",
            "Epoch 30/30\n",
            "13/13 [==============================] - 0s 9ms/step - loss: 0.0270 - binary_accuracy: 1.0000 - val_loss: 0.4789 - val_binary_accuracy: 0.7347\n"
          ]
        }
      ]
    },
    {
      "cell_type": "code",
      "source": [
        "def history_line_plot(history, keys, title=\"\"):\n",
        "    for key in keys:\n",
        "        plt.plot(history[key], label=key)\n",
        "    plt.title(title)\n",
        "    plt.legend()\n",
        "    plt.show()"
      ],
      "metadata": {
        "id": "dJfF5Gqg1sf9"
      },
      "execution_count": null,
      "outputs": []
    },
    {
      "cell_type": "code",
      "source": [
        "history_line_plot(\n",
        "    history=history_embedding.history, \n",
        "    keys=[\"binary_accuracy\", \"val_binary_accuracy\"],\n",
        "    title=\"Accuracy\"\n",
        ")\n",
        "\n",
        "history_line_plot(\n",
        "    history=history_embedding.history, \n",
        "    keys=[\"loss\", \"val_loss\"],\n",
        "    title=\"Loss\"\n",
        ")"
      ],
      "metadata": {
        "colab": {
          "base_uri": "https://localhost:8080/"
        },
        "id": "tnHjEtEn1-6i",
        "outputId": "a389b1dc-00aa-4dbe-c76f-1d3797909f18"
      },
      "execution_count": null,
      "outputs": [
        {
          "output_type": "display_data",
          "data": {
            "text/plain": [
              "<Figure size 432x288 with 1 Axes>"
            ],
            "image/png": "[encoded data removed]"
          },
          "metadata": {
            "needs_background": "light"
          }
        },
        {
          "output_type": "display_data",
          "data": {
            "text/plain": [
              "<Figure size 432x288 with 1 Axes>"
            ],
            "image/png": "[encoded data removed]"
          },
          "metadata": {
            "needs_background": "light"
          }
        }
      ]
    },
    {
      "cell_type": "markdown",
      "source": [
        "## RNN"
      ],
      "metadata": {
        "id": "gvtPzKo02Hrl"
      }
    },
    {
      "cell_type": "code",
      "source": [
        "# Model menerima input dengan dimensi ke-2 sebesar \"maxlen\"\n",
        "inputs = keras.layers.Input(shape=(maxlen,))\n",
        "\n",
        "# Tiap elemen dalam dimensi terakhir akan di tanamkan vektor\n",
        "x = keras.layers.Embedding(10000, EMBEDDING_DIM, input_length=maxlen)(inputs)\n",
        "\n",
        "# Menginput layer RNN\n",
        "x = keras.layers.SimpleRNN(16)(x)\n",
        "\n",
        "# Salurkan ke layer klasifikasi\n",
        "outputs = keras.layers.Dense(1, activation=\"sigmoid\")(x)\n",
        "\n",
        "# Buat model\n",
        "model_rnn = keras.models.Model(inputs=inputs, outputs=outputs)\n",
        "\n",
        "# Compile\n",
        "model_rnn.compile(\n",
        "    optimizer=tf.keras.optimizers.Adam(),\n",
        "    loss=tf.keras.losses.BinaryCrossentropy(),\n",
        "    metrics=[tf.keras.metrics.BinaryAccuracy()]\n",
        ")\n",
        "\n",
        "# Cek struktur model\n",
        "model_rnn.summary()"
      ],
      "metadata": {
        "colab": {
          "base_uri": "https://localhost:8080/"
        },
        "id": "CYBWP_9T2KeJ",
        "outputId": "a42381f9-0da2-4f8a-d901-472f8b9708f6"
      },
      "execution_count": null,
      "outputs": [
        {
          "output_type": "stream",
          "name": "stdout",
          "text": [
            "Model: \"model_11\"\n",
            "_________________________________________________________________\n",
            " Layer (type)                Output Shape              Param #   \n",
            "=================================================================\n",
            " input_14 (InputLayer)       [(None, 31)]              0         \n",
            "                                                                 \n",
            " embedding_12 (Embedding)    (None, 31, 32)            320000    \n",
            "                                                                 \n",
            " simple_rnn_3 (SimpleRNN)    (None, 16)                784       \n",
            "                                                                 \n",
            " dense_11 (Dense)            (None, 1)                 17        \n",
            "                                                                 \n",
            "=================================================================\n",
            "Total params: 320,801\n",
            "Trainable params: 320,801\n",
            "Non-trainable params: 0\n",
            "_________________________________________________________________\n"
          ]
        }
      ]
    },
    {
      "cell_type": "code",
      "source": [
        "# Training\n",
        "history_rnn = model_rnn.fit(\n",
        "    x=X_train_sequence,\n",
        "    y=y_train,\n",
        "    batch_size=BATCH_SIZE,\n",
        "    epochs=EPOCH,\n",
        "    validation_split=0.2,\n",
        ")"
      ],
      "metadata": {
        "colab": {
          "base_uri": "https://localhost:8080/"
        },
        "id": "7bvRmLKU2gG-",
        "outputId": "43e33084-6f3c-435e-99a3-0ca09f088490"
      },
      "execution_count": null,
      "outputs": [
        {
          "output_type": "stream",
          "name": "stdout",
          "text": [
            "Epoch 1/30\n",
            "13/13 [==============================] - 2s 40ms/step - loss: 0.6949 - binary_accuracy: 0.5013 - val_loss: 0.6791 - val_binary_accuracy: 0.6122\n",
            "Epoch 2/30\n",
            "13/13 [==============================] - 0s 14ms/step - loss: 0.6248 - binary_accuracy: 0.8175 - val_loss: 0.6739 - val_binary_accuracy: 0.5612\n",
            "Epoch 3/30\n",
            "13/13 [==============================] - 0s 16ms/step - loss: 0.4611 - binary_accuracy: 0.9486 - val_loss: 0.6776 - val_binary_accuracy: 0.5612\n",
            "Epoch 4/30\n",
            "13/13 [==============================] - 0s 16ms/step - loss: 0.2928 - binary_accuracy: 0.9794 - val_loss: 0.6903 - val_binary_accuracy: 0.5816\n",
            "Epoch 5/30\n",
            "13/13 [==============================] - 0s 15ms/step - loss: 0.1979 - binary_accuracy: 0.9974 - val_loss: 0.6987 - val_binary_accuracy: 0.5816\n",
            "Epoch 6/30\n",
            "13/13 [==============================] - 0s 17ms/step - loss: 0.1441 - binary_accuracy: 1.0000 - val_loss: 0.7013 - val_binary_accuracy: 0.5816\n",
            "Epoch 7/30\n",
            "13/13 [==============================] - 0s 14ms/step - loss: 0.1068 - binary_accuracy: 1.0000 - val_loss: 0.7245 - val_binary_accuracy: 0.5510\n",
            "Epoch 8/30\n",
            "13/13 [==============================] - 0s 14ms/step - loss: 0.0820 - binary_accuracy: 1.0000 - val_loss: 0.7330 - val_binary_accuracy: 0.5918\n",
            "Epoch 9/30\n",
            "13/13 [==============================] - 0s 17ms/step - loss: 0.0652 - binary_accuracy: 1.0000 - val_loss: 0.7438 - val_binary_accuracy: 0.5918\n",
            "Epoch 10/30\n",
            "13/13 [==============================] - 0s 14ms/step - loss: 0.0534 - binary_accuracy: 1.0000 - val_loss: 0.7689 - val_binary_accuracy: 0.6020\n",
            "Epoch 11/30\n",
            "13/13 [==============================] - 0s 16ms/step - loss: 0.0451 - binary_accuracy: 1.0000 - val_loss: 0.7898 - val_binary_accuracy: 0.5816\n",
            "Epoch 12/30\n",
            "13/13 [==============================] - 0s 14ms/step - loss: 0.0385 - binary_accuracy: 1.0000 - val_loss: 0.7887 - val_binary_accuracy: 0.6020\n",
            "Epoch 13/30\n",
            "13/13 [==============================] - 0s 15ms/step - loss: 0.0337 - binary_accuracy: 1.0000 - val_loss: 0.7993 - val_binary_accuracy: 0.5918\n",
            "Epoch 14/30\n",
            "13/13 [==============================] - 0s 15ms/step - loss: 0.0298 - binary_accuracy: 1.0000 - val_loss: 0.8064 - val_binary_accuracy: 0.6020\n",
            "Epoch 15/30\n",
            "13/13 [==============================] - 0s 15ms/step - loss: 0.0261 - binary_accuracy: 1.0000 - val_loss: 0.8305 - val_binary_accuracy: 0.5918\n",
            "Epoch 16/30\n",
            "13/13 [==============================] - 0s 16ms/step - loss: 0.0254 - binary_accuracy: 1.0000 - val_loss: 0.8228 - val_binary_accuracy: 0.6020\n",
            "Epoch 17/30\n",
            "13/13 [==============================] - 0s 16ms/step - loss: 0.0246 - binary_accuracy: 1.0000 - val_loss: 0.8675 - val_binary_accuracy: 0.5918\n",
            "Epoch 18/30\n",
            "13/13 [==============================] - 0s 17ms/step - loss: 0.0220 - binary_accuracy: 1.0000 - val_loss: 0.9101 - val_binary_accuracy: 0.5816\n",
            "Epoch 19/30\n",
            "13/13 [==============================] - 0s 15ms/step - loss: 0.0198 - binary_accuracy: 1.0000 - val_loss: 0.9930 - val_binary_accuracy: 0.5816\n",
            "Epoch 20/30\n",
            "13/13 [==============================] - 0s 15ms/step - loss: 0.0206 - binary_accuracy: 0.9974 - val_loss: 0.9284 - val_binary_accuracy: 0.5612\n",
            "Epoch 21/30\n",
            "13/13 [==============================] - 0s 18ms/step - loss: 0.0216 - binary_accuracy: 1.0000 - val_loss: 0.8967 - val_binary_accuracy: 0.5612\n",
            "Epoch 22/30\n",
            "13/13 [==============================] - 0s 15ms/step - loss: 0.0199 - binary_accuracy: 1.0000 - val_loss: 0.8921 - val_binary_accuracy: 0.5918\n",
            "Epoch 23/30\n",
            "13/13 [==============================] - 0s 16ms/step - loss: 0.0151 - binary_accuracy: 1.0000 - val_loss: 0.9035 - val_binary_accuracy: 0.6327\n",
            "Epoch 24/30\n",
            "13/13 [==============================] - 0s 18ms/step - loss: 0.0129 - binary_accuracy: 1.0000 - val_loss: 0.9187 - val_binary_accuracy: 0.6327\n",
            "Epoch 25/30\n",
            "13/13 [==============================] - 0s 14ms/step - loss: 0.0114 - binary_accuracy: 1.0000 - val_loss: 0.9340 - val_binary_accuracy: 0.6224\n",
            "Epoch 26/30\n",
            "13/13 [==============================] - 0s 16ms/step - loss: 0.0103 - binary_accuracy: 1.0000 - val_loss: 0.9387 - val_binary_accuracy: 0.6327\n",
            "Epoch 27/30\n",
            "13/13 [==============================] - 0s 14ms/step - loss: 0.0095 - binary_accuracy: 1.0000 - val_loss: 0.9405 - val_binary_accuracy: 0.6327\n",
            "Epoch 28/30\n",
            "13/13 [==============================] - 0s 16ms/step - loss: 0.0088 - binary_accuracy: 1.0000 - val_loss: 0.9434 - val_binary_accuracy: 0.6224\n",
            "Epoch 29/30\n",
            "13/13 [==============================] - 0s 14ms/step - loss: 0.0082 - binary_accuracy: 1.0000 - val_loss: 0.9440 - val_binary_accuracy: 0.6327\n",
            "Epoch 30/30\n",
            "13/13 [==============================] - 0s 18ms/step - loss: 0.0077 - binary_accuracy: 1.0000 - val_loss: 0.9451 - val_binary_accuracy: 0.6327\n"
          ]
        }
      ]
    },
    {
      "cell_type": "code",
      "source": [
        "history_line_plot(\n",
        "    history=history_rnn.history, \n",
        "    keys=[\"binary_accuracy\", \"val_binary_accuracy\"],\n",
        "    title=\"Accuracy\"\n",
        ")\n",
        "\n",
        "history_line_plot(\n",
        "    history=history_rnn.history, \n",
        "    keys=[\"loss\", \"val_loss\"],\n",
        "    title=\"Loss\"\n",
        ")"
      ],
      "metadata": {
        "colab": {
          "base_uri": "https://localhost:8080/",
          "height": 545
        },
        "id": "c5VwnpMJ2k6g",
        "outputId": "9907ef3d-30b7-4ec7-dc1f-be5b49e7c2da"
      },
      "execution_count": null,
      "outputs": [
        {
          "output_type": "display_data",
          "data": {
            "text/plain": [
              "<Figure size 432x288 with 1 Axes>"
            ],
            "image/png": "[encoded data removed]"
          },
          "metadata": {
            "needs_background": "light"
          }
        },
        {
          "output_type": "display_data",
          "data": {
            "text/plain": [
              "<Figure size 432x288 with 1 Axes>"
            ],
            "image/png": "[encoded data removed]"
          },
          "metadata": {
            "needs_background": "light"
          }
        }
      ]
    },
    {
      "cell_type": "markdown",
      "source": [
        "##LSTM"
      ],
      "metadata": {
        "id": "lOcqdsBW28qh"
      }
    },
    {
      "cell_type": "code",
      "source": [
        "# Model menerima input dengan dimensi ke-2 sebesar \"maxlen\"\n",
        "inputs = keras.layers.Input(shape=(maxlen,))\n",
        "\n",
        "# Tiap elemen dalam dimensi terakhir akan di tanamkan vektor\n",
        "x = keras.layers.Embedding(10000, EMBEDDING_DIM, input_length=maxlen)(inputs)\n",
        "\n",
        "# Menginputkan layer LSTM\n",
        "x = keras.layers.LSTM(16)(x)\n",
        "\n",
        "# Salurkan ke layer klasifikasi\n",
        "outputs = keras.layers.Dense(1, activation=\"sigmoid\")(x)\n",
        "\n",
        "# Buat model\n",
        "model_lstm = keras.models.Model(inputs=inputs, outputs=outputs)\n",
        "\n",
        "# Compile\n",
        "model_lstm.compile(\n",
        "    optimizer=tf.keras.optimizers.Adam(),\n",
        "    loss=tf.keras.losses.BinaryCrossentropy(),\n",
        "    metrics=[tf.keras.metrics.BinaryAccuracy()]\n",
        ")\n",
        "\n",
        "# Cek struktur model\n",
        "model_lstm.summary()"
      ],
      "metadata": {
        "colab": {
          "base_uri": "https://localhost:8080/"
        },
        "id": "JnvQ474l3A9P",
        "outputId": "7b66514d-3099-4712-9655-d2d619465baf"
      },
      "execution_count": null,
      "outputs": [
        {
          "output_type": "stream",
          "name": "stdout",
          "text": [
            "Model: \"model_12\"\n",
            "_________________________________________________________________\n",
            " Layer (type)                Output Shape              Param #   \n",
            "=================================================================\n",
            " input_15 (InputLayer)       [(None, 31)]              0         \n",
            "                                                                 \n",
            " embedding_13 (Embedding)    (None, 31, 32)            320000    \n",
            "                                                                 \n",
            " lstm_3 (LSTM)               (None, 16)                3136      \n",
            "                                                                 \n",
            " dense_12 (Dense)            (None, 1)                 17        \n",
            "                                                                 \n",
            "=================================================================\n",
            "Total params: 323,153\n",
            "Trainable params: 323,153\n",
            "Non-trainable params: 0\n",
            "_________________________________________________________________\n"
          ]
        }
      ]
    },
    {
      "cell_type": "code",
      "source": [
        "# Training\n",
        "history_lstm = model_lstm.fit(\n",
        "    x=X_train_sequence,\n",
        "    y=y_train,\n",
        "    batch_size=BATCH_SIZE,\n",
        "    epochs=EPOCH,\n",
        "    validation_split=0.2,\n",
        ")"
      ],
      "metadata": {
        "colab": {
          "base_uri": "https://localhost:8080/"
        },
        "id": "TlVvctHS3Lwd",
        "outputId": "10973340-1a36-4a76-d8a1-81ada5807cb5"
      },
      "execution_count": null,
      "outputs": [
        {
          "output_type": "stream",
          "name": "stdout",
          "text": [
            "Epoch 1/30\n",
            "13/13 [==============================] - 3s 75ms/step - loss: 0.6945 - binary_accuracy: 0.4884 - val_loss: 0.6921 - val_binary_accuracy: 0.5306\n",
            "Epoch 2/30\n",
            "13/13 [==============================] - 0s 24ms/step - loss: 0.6933 - binary_accuracy: 0.4936 - val_loss: 0.6930 - val_binary_accuracy: 0.4694\n",
            "Epoch 3/30\n",
            "13/13 [==============================] - 0s 23ms/step - loss: 0.6921 - binary_accuracy: 0.5116 - val_loss: 0.6928 - val_binary_accuracy: 0.4694\n",
            "Epoch 4/30\n",
            "13/13 [==============================] - 0s 23ms/step - loss: 0.6887 - binary_accuracy: 0.6221 - val_loss: 0.6825 - val_binary_accuracy: 0.6327\n",
            "Epoch 5/30\n",
            "13/13 [==============================] - 0s 26ms/step - loss: 0.6389 - binary_accuracy: 0.7763 - val_loss: 0.5853 - val_binary_accuracy: 0.7959\n",
            "Epoch 6/30\n",
            "13/13 [==============================] - 0s 23ms/step - loss: 0.4142 - binary_accuracy: 0.9692 - val_loss: 0.4695 - val_binary_accuracy: 0.8061\n",
            "Epoch 7/30\n",
            "13/13 [==============================] - 0s 26ms/step - loss: 0.2350 - binary_accuracy: 0.9897 - val_loss: 0.4852 - val_binary_accuracy: 0.8163\n",
            "Epoch 8/30\n",
            "13/13 [==============================] - 0s 23ms/step - loss: 0.1568 - binary_accuracy: 0.9923 - val_loss: 0.5275 - val_binary_accuracy: 0.7959\n",
            "Epoch 9/30\n",
            "13/13 [==============================] - 0s 25ms/step - loss: 0.1105 - binary_accuracy: 0.9974 - val_loss: 0.5265 - val_binary_accuracy: 0.8061\n",
            "Epoch 10/30\n",
            "13/13 [==============================] - 0s 23ms/step - loss: 0.0903 - binary_accuracy: 0.9974 - val_loss: 0.5461 - val_binary_accuracy: 0.8061\n",
            "Epoch 11/30\n",
            "13/13 [==============================] - 0s 26ms/step - loss: 0.0678 - binary_accuracy: 1.0000 - val_loss: 0.5621 - val_binary_accuracy: 0.8163\n",
            "Epoch 12/30\n",
            "13/13 [==============================] - 0s 25ms/step - loss: 0.0559 - binary_accuracy: 1.0000 - val_loss: 0.6011 - val_binary_accuracy: 0.8061\n",
            "Epoch 13/30\n",
            "13/13 [==============================] - 0s 23ms/step - loss: 0.0471 - binary_accuracy: 1.0000 - val_loss: 0.6354 - val_binary_accuracy: 0.8061\n",
            "Epoch 14/30\n",
            "13/13 [==============================] - 0s 24ms/step - loss: 0.0404 - binary_accuracy: 1.0000 - val_loss: 0.6675 - val_binary_accuracy: 0.8061\n",
            "Epoch 15/30\n",
            "13/13 [==============================] - 0s 24ms/step - loss: 0.0352 - binary_accuracy: 1.0000 - val_loss: 0.7155 - val_binary_accuracy: 0.7959\n",
            "Epoch 16/30\n",
            "13/13 [==============================] - 0s 24ms/step - loss: 0.0311 - binary_accuracy: 1.0000 - val_loss: 0.7427 - val_binary_accuracy: 0.7959\n",
            "Epoch 17/30\n",
            "13/13 [==============================] - 0s 25ms/step - loss: 0.0277 - binary_accuracy: 1.0000 - val_loss: 0.7653 - val_binary_accuracy: 0.7959\n",
            "Epoch 18/30\n",
            "13/13 [==============================] - 0s 25ms/step - loss: 0.0250 - binary_accuracy: 1.0000 - val_loss: 0.7852 - val_binary_accuracy: 0.7959\n",
            "Epoch 19/30\n",
            "13/13 [==============================] - 0s 26ms/step - loss: 0.0227 - binary_accuracy: 1.0000 - val_loss: 0.8037 - val_binary_accuracy: 0.7959\n",
            "Epoch 20/30\n",
            "13/13 [==============================] - 0s 24ms/step - loss: 0.0207 - binary_accuracy: 1.0000 - val_loss: 0.8210 - val_binary_accuracy: 0.7959\n",
            "Epoch 21/30\n",
            "13/13 [==============================] - 0s 25ms/step - loss: 0.0190 - binary_accuracy: 1.0000 - val_loss: 0.8371 - val_binary_accuracy: 0.7959\n",
            "Epoch 22/30\n",
            "13/13 [==============================] - 0s 24ms/step - loss: 0.0175 - binary_accuracy: 1.0000 - val_loss: 0.8525 - val_binary_accuracy: 0.7959\n",
            "Epoch 23/30\n",
            "13/13 [==============================] - 0s 24ms/step - loss: 0.0162 - binary_accuracy: 1.0000 - val_loss: 0.8671 - val_binary_accuracy: 0.7959\n",
            "Epoch 24/30\n",
            "13/13 [==============================] - 0s 25ms/step - loss: 0.0150 - binary_accuracy: 1.0000 - val_loss: 0.8811 - val_binary_accuracy: 0.7959\n",
            "Epoch 25/30\n",
            "13/13 [==============================] - 0s 24ms/step - loss: 0.0140 - binary_accuracy: 1.0000 - val_loss: 0.8944 - val_binary_accuracy: 0.7959\n",
            "Epoch 26/30\n",
            "13/13 [==============================] - 0s 23ms/step - loss: 0.0131 - binary_accuracy: 1.0000 - val_loss: 0.9072 - val_binary_accuracy: 0.7959\n",
            "Epoch 27/30\n",
            "13/13 [==============================] - 0s 24ms/step - loss: 0.0122 - binary_accuracy: 1.0000 - val_loss: 0.9196 - val_binary_accuracy: 0.7959\n",
            "Epoch 28/30\n",
            "13/13 [==============================] - 0s 24ms/step - loss: 0.0115 - binary_accuracy: 1.0000 - val_loss: 0.9316 - val_binary_accuracy: 0.7959\n",
            "Epoch 29/30\n",
            "13/13 [==============================] - 0s 26ms/step - loss: 0.0108 - binary_accuracy: 1.0000 - val_loss: 0.9431 - val_binary_accuracy: 0.7959\n",
            "Epoch 30/30\n",
            "13/13 [==============================] - 0s 24ms/step - loss: 0.0102 - binary_accuracy: 1.0000 - val_loss: 0.9544 - val_binary_accuracy: 0.7959\n"
          ]
        }
      ]
    },
    {
      "cell_type": "code",
      "source": [
        "history_line_plot(\n",
        "    history=history_lstm.history, \n",
        "    keys=[\"binary_accuracy\", \"val_binary_accuracy\"],\n",
        "    title=\"Accuracy\"\n",
        ")\n",
        "\n",
        "history_line_plot(\n",
        "    history=history_lstm.history, \n",
        "    keys=[\"loss\", \"val_loss\"],\n",
        "    title=\"Loss\"\n",
        ")"
      ],
      "metadata": {
        "colab": {
          "base_uri": "https://localhost:8080/",
          "height": 545
        },
        "id": "WI0rSk7k3cXB",
        "outputId": "36d52187-995a-42fe-dd4f-216c7125e28c"
      },
      "execution_count": null,
      "outputs": [
        {
          "output_type": "display_data",
          "data": {
            "text/plain": [
              "<Figure size 432x288 with 1 Axes>"
            ],
            "image/png": "[encoded data removed]"
          },
          "metadata": {
            "needs_background": "light"
          }
        },
        {
          "output_type": "display_data",
          "data": {
            "text/plain": [
              "<Figure size 432x288 with 1 Axes>"
            ],
            "image/png": "[encoded data removed]"
          },
          "metadata": {
            "needs_background": "light"
          }
        }
      ]
    },
    {
      "cell_type": "markdown",
      "source": [
        "#Evaluasi dan Prediksi"
      ],
      "metadata": {
        "id": "1qSO60Cs4R4H"
      }
    },
    {
      "cell_type": "code",
      "source": [
        "# Evaluasi Word Embeeding\n",
        "loss, acc = model_embed.evaluate(X_test_sequence, y_test)\n",
        "print(f\"Model test loss: {loss}\")\n",
        "print(f\"Model test acc: {acc}\")"
      ],
      "metadata": {
        "colab": {
          "base_uri": "https://localhost:8080/"
        },
        "id": "om_-Oryc4ThR",
        "outputId": "387250b6-a12e-457f-d4e9-f9b1264c61b7"
      },
      "execution_count": null,
      "outputs": [
        {
          "output_type": "stream",
          "name": "stdout",
          "text": [
            "6/6 [==============================] - 0s 2ms/step - loss: 0.5314 - binary_accuracy: 0.7178\n",
            "Model test loss: 0.5314205884933472\n",
            "Model test acc: 0.7177914381027222\n"
          ]
        }
      ]
    },
    {
      "cell_type": "code",
      "source": [
        "# Evaluasi RNN\n",
        "loss, acc = model_rnn.evaluate(X_test_sequence, y_test)\n",
        "print(f\"Model test loss: {loss}\")\n",
        "print(f\"Model test acc: {acc}\")"
      ],
      "metadata": {
        "colab": {
          "base_uri": "https://localhost:8080/"
        },
        "id": "BQvNAIHB5DE6",
        "outputId": "063310e9-12ab-49b8-e7ae-3086e18e94d3"
      },
      "execution_count": null,
      "outputs": [
        {
          "output_type": "stream",
          "name": "stdout",
          "text": [
            "6/6 [==============================] - 0s 4ms/step - loss: 1.1660 - binary_accuracy: 0.5706\n",
            "Model test loss: 1.165984869003296\n",
            "Model test acc: 0.5705521702766418\n"
          ]
        }
      ]
    },
    {
      "cell_type": "code",
      "source": [
        "# Evaluasi LSTM\n",
        "loss, acc = model_lstm.evaluate(X_test_sequence, y_test)\n",
        "print(f\"Model test loss: {loss}\")\n",
        "print(f\"Model test acc: {acc}\")"
      ],
      "metadata": {
        "colab": {
          "base_uri": "https://localhost:8080/"
        },
        "id": "TIwNzqzx5UVQ",
        "outputId": "4394c81b-dccf-4b31-ce09-2c10f0003f01"
      },
      "execution_count": null,
      "outputs": [
        {
          "output_type": "stream",
          "name": "stdout",
          "text": [
            "6/6 [==============================] - 0s 7ms/step - loss: 1.0307 - binary_accuracy: 0.7791\n",
            "Model test loss: 1.030745267868042\n",
            "Model test acc: 0.7791411280632019\n"
          ]
        }
      ]
    },
    {
      "cell_type": "code",
      "source": [
        "# Prediksi menggunakan word embedding\n",
        "def predict(texts, model):\n",
        "    texts = [preprocess_text(text) for text in texts]\n",
        "    seq = tokenizer.texts_to_sequences(texts)\n",
        "    seq = keras.preprocessing.sequence.pad_sequences(seq, maxlen=maxlen, padding=\"post\")\n",
        "    probs = model.predict(seq)\n",
        "    return probs\n",
        "\n",
        "\n",
        "samples = [\n",
        "           \"kamu cantik sekali\", \n",
        "           \"kamu goblok\",\n",
        "           \"apaan sih anjing gajelas\"\n",
        "            ]\n",
        "\n",
        "probs = predict(samples, model_embed)\n",
        "predictions = tf.where(probs > 0.5, \"KOMENTAR NON-BULLYING\", \"BULLYING\")\n",
        "predictions = tf.squeeze(predictions, axis=-1)\n",
        "\n",
        "for sample, prob, label in zip(samples, probs, predictions):\n",
        "    print(f\"Kalimat: {sample}\")\n",
        "    print(f\"Probabilitas: {prob}\")\n",
        "    print(f\"Label: {label.numpy().decode()}\")\n",
        "    print()"
      ],
      "metadata": {
        "colab": {
          "base_uri": "https://localhost:8080/"
        },
        "id": "vgROmovk5ZEz",
        "outputId": "8f8e1db7-1fc0-42a2-f3c3-521ecabb99a1"
      },
      "execution_count": null,
      "outputs": [
        {
          "output_type": "stream",
          "name": "stdout",
          "text": [
            "Kalimat: kamu cantik sekali\n",
            "Probabilitas: [0.6533324]\n",
            "Label: KOMENTAR NON-BULLYING\n",
            "\n",
            "Kalimat: kamu goblok\n",
            "Probabilitas: [0.40219888]\n",
            "Label: BULLYING\n",
            "\n",
            "Kalimat: apaan sih anjing gajelas\n",
            "Probabilitas: [0.13530955]\n",
            "Label: BULLYING\n",
            "\n"
          ]
        }
      ]
    },
    {
      "cell_type": "code",
      "source": [
        "# Prediksi menggunakan RNN\n",
        "def predict(texts, model):\n",
        "    texts = [preprocess_text(text) for text in texts]\n",
        "    seq = tokenizer.texts_to_sequences(texts)\n",
        "    seq = keras.preprocessing.sequence.pad_sequences(seq, maxlen=maxlen, padding=\"post\")\n",
        "    probs = model.predict(seq)\n",
        "    return probs\n",
        "\n",
        "\n",
        "samples = [\n",
        "           \"idiot\", \n",
        "           \"bodoh anda\",\n",
        "           \"ga jelas kamu\"\n",
        "            ]\n",
        "\n",
        "probs = predict(samples, model_rnn)\n",
        "predictions = tf.where(probs > 0.5, \"KOMENTAR NON-BULLYING\", \"BULLYING\")\n",
        "predictions = tf.squeeze(predictions, axis=-1)\n",
        "\n",
        "for sample, prob, label in zip(samples, probs, predictions):\n",
        "    print(f\"Kalimat: {sample}\")\n",
        "    print(f\"Probabilitas: {prob}\")\n",
        "    print(f\"Label: {label.numpy().decode()}\")\n",
        "    print()"
      ],
      "metadata": {
        "colab": {
          "base_uri": "https://localhost:8080/"
        },
        "id": "P8dKTkvP8WvG",
        "outputId": "182ba3d5-1539-4250-e621-86df01acd437"
      },
      "execution_count": null,
      "outputs": [
        {
          "output_type": "stream",
          "name": "stdout",
          "text": [
            "Kalimat: idiot\n",
            "Probabilitas: [0.15346083]\n",
            "Label: BULLYING\n",
            "\n",
            "Kalimat: bodoh anda\n",
            "Probabilitas: [0.15346083]\n",
            "Label: BULLYING\n",
            "\n",
            "Kalimat: ga jelas kamu\n",
            "Probabilitas: [0.77749765]\n",
            "Label: KOMENTAR NON-BULLYING\n",
            "\n"
          ]
        }
      ]
    },
    {
      "cell_type": "markdown",
      "source": [
        "# Kesimpulan"
      ],
      "metadata": {
        "id": "oAzsfJZ5Aet8"
      }
    },
    {
      "cell_type": "markdown",
      "source": [
        "Berdasarkan evaluasi di atas, akan dipilih model machine learning **WORD EMBEDDING** dikarenakan akurasi model yang baik dan tingkat loss dari model yang akan semakin turun seiring banyaknya epoch"
      ],
      "metadata": {
        "id": "qp3dlSUHAgub"
      }
    },
    {
      "cell_type": "markdown",
      "source": [
        "# ML Deployment\n"
      ],
      "metadata": {
        "id": "-bT6Gt_qAyJA"
      }
    },
    {
      "cell_type": "code",
      "source": [
        "#Saving model\n",
        "import joblib\n",
        "joblib.dump(model_embed, \"Model Word Embedding.pkl\")"
      ],
      "metadata": {
        "colab": {
          "base_uri": "https://localhost:8080/"
        },
        "id": "OiIJXIvCA0qc",
        "outputId": "631adba2-c1a2-4f66-9df7-7811f228781f"
      },
      "execution_count": null,
      "outputs": [
        {
          "output_type": "execute_result",
          "data": {
            "text/plain": [
              "['Model Word Embedding.pkl']"
            ]
          },
          "metadata": {},
          "execution_count": 97
        }
      ]
    }
  ]
}